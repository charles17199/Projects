{
  "nbformat": 4,
  "nbformat_minor": 0,
  "metadata": {
    "colab": {
      "name": "Neural Machine Translation using Pytorch.ipynb",
      "provenance": [],
      "collapsed_sections": []
    },
    "kernelspec": {
      "name": "python3",
      "display_name": "Python 3"
    },
    "accelerator": "GPU"
  },
  "cells": [
    {
      "cell_type": "markdown",
      "metadata": {
        "id": "KUUP2Scg6er9",
        "colab_type": "text"
      },
      "source": [
        "**Neural Machine Translation using Pytorch**\n",
        "\n",
        "---\n",
        "\n"
      ]
    },
    {
      "cell_type": "markdown",
      "metadata": {
        "id": "HCSnUYOs_ej-",
        "colab_type": "text"
      },
      "source": [
        "In this project we will be creating a neural network to translate from French to English."
      ]
    },
    {
      "cell_type": "code",
      "metadata": {
        "id": "Lwx1w_MkrGJj",
        "colab_type": "code",
        "colab": {
          "base_uri": "https://localhost:8080/",
          "height": 51
        },
        "outputId": "c1c25905-cb90-44a4-ff1b-151c77d38854"
      },
      "source": [
        "!pip install bcolz"
      ],
      "execution_count": null,
      "outputs": [
        {
          "output_type": "stream",
          "text": [
            "Requirement already satisfied: bcolz in /usr/local/lib/python3.6/dist-packages (1.2.1)\n",
            "Requirement already satisfied: numpy>=1.7 in /usr/local/lib/python3.6/dist-packages (from bcolz) (1.18.5)\n"
          ],
          "name": "stdout"
        }
      ]
    },
    {
      "cell_type": "markdown",
      "metadata": {
        "id": "6Y2EwiR-6yoX",
        "colab_type": "text"
      },
      "source": [
        "First We import all the necessary libraries including pytorch\n"
      ]
    },
    {
      "cell_type": "code",
      "metadata": {
        "id": "nwsSROT2VqLQ",
        "colab_type": "code",
        "colab": {}
      },
      "source": [
        "from __future__ import unicode_literals, print_function, division\n",
        "from io import open\n",
        "import unicodedata\n",
        "import string\n",
        "import re\n",
        "import random\n",
        "import bcolz \n",
        "import pickle\n",
        "import copy\n",
        "import operator\n",
        "\n",
        "import torch \n",
        "import torch.nn as nn\n",
        "from torch import optim\n",
        "import torch.nn.functional as F\n",
        "\n",
        "device = torch.device('cuda' if torch.cuda.is_available() else 'cpu')"
      ],
      "execution_count": null,
      "outputs": []
    },
    {
      "cell_type": "code",
      "metadata": {
        "id": "ehSWwvGQYbsk",
        "colab_type": "code",
        "colab": {}
      },
      "source": [
        "import numpy as np\n",
        "import pandas as pd"
      ],
      "execution_count": null,
      "outputs": []
    },
    {
      "cell_type": "markdown",
      "metadata": {
        "id": "FpV06I917Ibt",
        "colab_type": "text"
      },
      "source": [
        "The Model is being trained on the google colab. We import drive inorder to use data directly from the google drive \n"
      ]
    },
    {
      "cell_type": "markdown",
      "metadata": {
        "id": "ZgrXGWHC_KnC",
        "colab_type": "text"
      },
      "source": [
        "The data we are using can be directly downloaded here https://download.pytorch.org/tutorial/data.zip"
      ]
    },
    {
      "cell_type": "code",
      "metadata": {
        "id": "tSdvfodhV9FD",
        "colab_type": "code",
        "colab": {
          "base_uri": "https://localhost:8080/",
          "height": 122
        },
        "outputId": "fb9e0e1b-d6a4-491a-e2a8-ab7a08a89198"
      },
      "source": [
        "from google.colab import drive\n",
        "drive.mount('/content/drive')"
      ],
      "execution_count": null,
      "outputs": [
        {
          "output_type": "stream",
          "text": [
            "Go to this URL in a browser: https://accounts.google.com/o/oauth2/auth?client_id=947318989803-6bn6qk8qdgf4n4g3pfee6491hc0brc4i.apps.googleusercontent.com&redirect_uri=urn%3aietf%3awg%3aoauth%3a2.0%3aoob&response_type=code&scope=email%20https%3a%2f%2fwww.googleapis.com%2fauth%2fdocs.test%20https%3a%2f%2fwww.googleapis.com%2fauth%2fdrive%20https%3a%2f%2fwww.googleapis.com%2fauth%2fdrive.photos.readonly%20https%3a%2f%2fwww.googleapis.com%2fauth%2fpeopleapi.readonly\n",
            "\n",
            "Enter your authorization code:\n",
            "··········\n",
            "Mounted at /content/drive\n"
          ],
          "name": "stdout"
        }
      ]
    },
    {
      "cell_type": "markdown",
      "metadata": {
        "id": "soKFLmIA7uvp",
        "colab_type": "text"
      },
      "source": [
        "We are using a pre-trained word vectors - GLOVE(Global Vectors for Word Representation). It can be downloaded from here hhttps://nlp.stanford.edu/projects/glove/"
      ]
    },
    {
      "cell_type": "code",
      "metadata": {
        "id": "RXQl1-sfXcIH",
        "colab_type": "code",
        "colab": {}
      },
      "source": [
        "words = []\n",
        "idx = 0\n",
        "word2idx = {}\n",
        "vectors = bcolz.carray(np.zeros(1), rootdir=f'/content/drive/My Drive/glove.6B/6B.50.dat', mode='w')\n",
        " \n",
        "with open(f'/content/drive/My Drive/glove.6B/glove.6B.50d.txt', 'rb') as f:\n",
        "    for l in f:\n",
        "        line = l.decode().split()\n",
        "        word = line[0]\n",
        "        words.append(word)\n",
        "        word2idx[word] = idx\n",
        "        idx += 1\n",
        "        vect = np.array(line[1:]).astype(np.float)\n",
        "        vectors.append(vect)\n",
        "     \n",
        "vectors = bcolz.carray(vectors[1:].reshape((400000, 50)), rootdir=f'/content/drive/My Drive/glove.6B/6B.50.dat', mode='w')\n",
        "vectors.flush()\n",
        "pickle.dump(words, open(f'/content/drive/My Drive/glove.6B/6B.50_words.pkl', 'wb'))\n",
        "pickle.dump(word2idx, open(f'/content/drive/My Drive/glove.6B/6B.50_idx.pkl', 'wb'))"
      ],
      "execution_count": null,
      "outputs": []
    },
    {
      "cell_type": "code",
      "metadata": {
        "id": "BJxITkiAhDKY",
        "colab_type": "code",
        "colab": {}
      },
      "source": [
        "vectors = bcolz.open(f'/content/drive/My Drive/glove.6B/6B.50.dat')[:]\n",
        "words = pickle.load(open(f'/content/drive/My Drive/glove.6B/6B.50_words.pkl', 'rb'))\n",
        "word2idx = pickle.load(open(f'/content/drive/My Drive/glove.6B/6B.50_idx.pkl', 'rb'))\n",
        "\n",
        "glove = {w: vectors[word2idx[w]] for w in words}"
      ],
      "execution_count": null,
      "outputs": []
    },
    {
      "cell_type": "markdown",
      "metadata": {
        "id": "OIVSU5qG8vPD",
        "colab_type": "text"
      },
      "source": [
        "We are using a 50 dimensional vector format in glove. The following data frame shows the weights of few characters"
      ]
    },
    {
      "cell_type": "code",
      "metadata": {
        "id": "zZ6LrbpchHND",
        "colab_type": "code",
        "colab": {
          "base_uri": "https://localhost:8080/",
          "height": 379
        },
        "outputId": "28b971da-509c-4319-a234-8467aeffcabd"
      },
      "source": [
        "glove_dframe = pd.DataFrame(vectors, columns=range(1,51), index=words)\n",
        "glove_dframe[100:110]"
      ],
      "execution_count": null,
      "outputs": [
        {
          "output_type": "execute_result",
          "data": {
            "text/html": [
              "<div>\n",
              "<style scoped>\n",
              "    .dataframe tbody tr th:only-of-type {\n",
              "        vertical-align: middle;\n",
              "    }\n",
              "\n",
              "    .dataframe tbody tr th {\n",
              "        vertical-align: top;\n",
              "    }\n",
              "\n",
              "    .dataframe thead th {\n",
              "        text-align: right;\n",
              "    }\n",
              "</style>\n",
              "<table border=\"1\" class=\"dataframe\">\n",
              "  <thead>\n",
              "    <tr style=\"text-align: right;\">\n",
              "      <th></th>\n",
              "      <th>1</th>\n",
              "      <th>2</th>\n",
              "      <th>3</th>\n",
              "      <th>4</th>\n",
              "      <th>5</th>\n",
              "      <th>6</th>\n",
              "      <th>7</th>\n",
              "      <th>8</th>\n",
              "      <th>9</th>\n",
              "      <th>10</th>\n",
              "      <th>11</th>\n",
              "      <th>12</th>\n",
              "      <th>13</th>\n",
              "      <th>14</th>\n",
              "      <th>15</th>\n",
              "      <th>16</th>\n",
              "      <th>17</th>\n",
              "      <th>18</th>\n",
              "      <th>19</th>\n",
              "      <th>20</th>\n",
              "      <th>21</th>\n",
              "      <th>22</th>\n",
              "      <th>23</th>\n",
              "      <th>24</th>\n",
              "      <th>25</th>\n",
              "      <th>26</th>\n",
              "      <th>27</th>\n",
              "      <th>28</th>\n",
              "      <th>29</th>\n",
              "      <th>30</th>\n",
              "      <th>31</th>\n",
              "      <th>32</th>\n",
              "      <th>33</th>\n",
              "      <th>34</th>\n",
              "      <th>35</th>\n",
              "      <th>36</th>\n",
              "      <th>37</th>\n",
              "      <th>38</th>\n",
              "      <th>39</th>\n",
              "      <th>40</th>\n",
              "      <th>41</th>\n",
              "      <th>42</th>\n",
              "      <th>43</th>\n",
              "      <th>44</th>\n",
              "      <th>45</th>\n",
              "      <th>46</th>\n",
              "      <th>47</th>\n",
              "      <th>48</th>\n",
              "      <th>49</th>\n",
              "      <th>50</th>\n",
              "    </tr>\n",
              "  </thead>\n",
              "  <tbody>\n",
              "    <tr>\n",
              "      <th>so</th>\n",
              "      <td>0.60308</td>\n",
              "      <td>-0.320240</td>\n",
              "      <td>0.088857</td>\n",
              "      <td>-0.551760</td>\n",
              "      <td>0.531820</td>\n",
              "      <td>0.047069</td>\n",
              "      <td>-0.36246</td>\n",
              "      <td>0.005702</td>\n",
              "      <td>-0.37665</td>\n",
              "      <td>0.225340</td>\n",
              "      <td>-0.13534</td>\n",
              "      <td>0.359880</td>\n",
              "      <td>-0.425180</td>\n",
              "      <td>0.071324</td>\n",
              "      <td>0.770650</td>\n",
              "      <td>0.567120</td>\n",
              "      <td>0.41226</td>\n",
              "      <td>0.124510</td>\n",
              "      <td>0.142300</td>\n",
              "      <td>-0.96535</td>\n",
              "      <td>-0.390530</td>\n",
              "      <td>0.341990</td>\n",
              "      <td>0.56969</td>\n",
              "      <td>0.031635</td>\n",
              "      <td>0.694650</td>\n",
              "      <td>-1.9216</td>\n",
              "      <td>-0.671180</td>\n",
              "      <td>0.57971</td>\n",
              "      <td>0.860880</td>\n",
              "      <td>-0.591050</td>\n",
              "      <td>3.7787</td>\n",
              "      <td>0.304310</td>\n",
              "      <td>-0.043103</td>\n",
              "      <td>-0.42398</td>\n",
              "      <td>-0.063915</td>\n",
              "      <td>-0.066822</td>\n",
              "      <td>0.061983</td>\n",
              "      <td>0.563320</td>\n",
              "      <td>-0.223350</td>\n",
              "      <td>-0.47386</td>\n",
              "      <td>-0.470210</td>\n",
              "      <td>0.091714</td>\n",
              "      <td>0.147780</td>\n",
              "      <td>0.638050</td>\n",
              "      <td>-0.143560</td>\n",
              "      <td>-0.002293</td>\n",
              "      <td>-0.315000</td>\n",
              "      <td>-0.251870</td>\n",
              "      <td>-0.268790</td>\n",
              "      <td>0.36657</td>\n",
              "    </tr>\n",
              "    <tr>\n",
              "      <th>them</th>\n",
              "      <td>0.64642</td>\n",
              "      <td>-0.556000</td>\n",
              "      <td>0.470380</td>\n",
              "      <td>-0.820740</td>\n",
              "      <td>0.795120</td>\n",
              "      <td>0.287710</td>\n",
              "      <td>-0.56426</td>\n",
              "      <td>0.146300</td>\n",
              "      <td>-0.52421</td>\n",
              "      <td>0.021607</td>\n",
              "      <td>-0.11266</td>\n",
              "      <td>0.319860</td>\n",
              "      <td>-0.057542</td>\n",
              "      <td>-0.233750</td>\n",
              "      <td>0.637030</td>\n",
              "      <td>0.338200</td>\n",
              "      <td>0.46490</td>\n",
              "      <td>-0.423980</td>\n",
              "      <td>0.091868</td>\n",
              "      <td>-0.88040</td>\n",
              "      <td>0.220770</td>\n",
              "      <td>0.712700</td>\n",
              "      <td>0.98196</td>\n",
              "      <td>-0.033819</td>\n",
              "      <td>0.315540</td>\n",
              "      <td>-1.8001</td>\n",
              "      <td>-0.260030</td>\n",
              "      <td>-0.37762</td>\n",
              "      <td>0.856340</td>\n",
              "      <td>-1.339300</td>\n",
              "      <td>3.6408</td>\n",
              "      <td>0.872730</td>\n",
              "      <td>-0.792300</td>\n",
              "      <td>-0.51268</td>\n",
              "      <td>0.144150</td>\n",
              "      <td>0.554390</td>\n",
              "      <td>0.100600</td>\n",
              "      <td>0.132330</td>\n",
              "      <td>-0.071904</td>\n",
              "      <td>-0.16399</td>\n",
              "      <td>-0.089989</td>\n",
              "      <td>-0.031932</td>\n",
              "      <td>0.613900</td>\n",
              "      <td>0.404190</td>\n",
              "      <td>0.226860</td>\n",
              "      <td>-0.189740</td>\n",
              "      <td>-0.554030</td>\n",
              "      <td>-0.358310</td>\n",
              "      <td>-0.109950</td>\n",
              "      <td>-0.44700</td>\n",
              "    </tr>\n",
              "    <tr>\n",
              "      <th>what</th>\n",
              "      <td>0.45323</td>\n",
              "      <td>0.059811</td>\n",
              "      <td>-0.105770</td>\n",
              "      <td>-0.333000</td>\n",
              "      <td>0.723590</td>\n",
              "      <td>-0.087170</td>\n",
              "      <td>-0.61053</td>\n",
              "      <td>-0.037695</td>\n",
              "      <td>-0.30945</td>\n",
              "      <td>0.218050</td>\n",
              "      <td>-0.43605</td>\n",
              "      <td>0.473180</td>\n",
              "      <td>-0.768660</td>\n",
              "      <td>-0.271300</td>\n",
              "      <td>1.104200</td>\n",
              "      <td>0.591410</td>\n",
              "      <td>0.56962</td>\n",
              "      <td>-0.186780</td>\n",
              "      <td>0.148670</td>\n",
              "      <td>-0.67292</td>\n",
              "      <td>-0.346720</td>\n",
              "      <td>0.522840</td>\n",
              "      <td>0.22959</td>\n",
              "      <td>-0.072014</td>\n",
              "      <td>0.939670</td>\n",
              "      <td>-2.3985</td>\n",
              "      <td>-1.323800</td>\n",
              "      <td>0.28698</td>\n",
              "      <td>0.755090</td>\n",
              "      <td>-0.765220</td>\n",
              "      <td>3.3425</td>\n",
              "      <td>0.172330</td>\n",
              "      <td>-0.518030</td>\n",
              "      <td>-0.82970</td>\n",
              "      <td>-0.293330</td>\n",
              "      <td>-0.500760</td>\n",
              "      <td>-0.152280</td>\n",
              "      <td>0.098973</td>\n",
              "      <td>0.181460</td>\n",
              "      <td>-0.17420</td>\n",
              "      <td>-0.406660</td>\n",
              "      <td>0.203480</td>\n",
              "      <td>-0.011788</td>\n",
              "      <td>0.482520</td>\n",
              "      <td>0.024598</td>\n",
              "      <td>0.340640</td>\n",
              "      <td>-0.084724</td>\n",
              "      <td>0.532400</td>\n",
              "      <td>-0.251030</td>\n",
              "      <td>0.62546</td>\n",
              "    </tr>\n",
              "    <tr>\n",
              "      <th>him</th>\n",
              "      <td>0.11964</td>\n",
              "      <td>-0.045405</td>\n",
              "      <td>0.051100</td>\n",
              "      <td>-0.828730</td>\n",
              "      <td>0.976650</td>\n",
              "      <td>0.111280</td>\n",
              "      <td>-0.54588</td>\n",
              "      <td>1.156100</td>\n",
              "      <td>-0.68081</td>\n",
              "      <td>0.060207</td>\n",
              "      <td>-0.28765</td>\n",
              "      <td>0.880610</td>\n",
              "      <td>-0.917950</td>\n",
              "      <td>-0.183280</td>\n",
              "      <td>0.841840</td>\n",
              "      <td>-0.118560</td>\n",
              "      <td>-0.14957</td>\n",
              "      <td>-0.161550</td>\n",
              "      <td>-0.374060</td>\n",
              "      <td>-0.45342</td>\n",
              "      <td>-0.185170</td>\n",
              "      <td>1.039200</td>\n",
              "      <td>0.55667</td>\n",
              "      <td>-0.143090</td>\n",
              "      <td>0.713940</td>\n",
              "      <td>-2.9407</td>\n",
              "      <td>-0.051859</td>\n",
              "      <td>-0.13871</td>\n",
              "      <td>0.321510</td>\n",
              "      <td>-0.979710</td>\n",
              "      <td>2.9054</td>\n",
              "      <td>0.534260</td>\n",
              "      <td>-0.814180</td>\n",
              "      <td>-0.48852</td>\n",
              "      <td>0.011175</td>\n",
              "      <td>0.422110</td>\n",
              "      <td>0.390040</td>\n",
              "      <td>0.452430</td>\n",
              "      <td>-0.007067</td>\n",
              "      <td>-0.64889</td>\n",
              "      <td>0.091121</td>\n",
              "      <td>0.468900</td>\n",
              "      <td>-0.581920</td>\n",
              "      <td>0.456540</td>\n",
              "      <td>0.027340</td>\n",
              "      <td>-0.445390</td>\n",
              "      <td>-0.423730</td>\n",
              "      <td>-0.627920</td>\n",
              "      <td>0.024592</td>\n",
              "      <td>-0.14341</td>\n",
              "    </tr>\n",
              "    <tr>\n",
              "      <th>united</th>\n",
              "      <td>-0.39874</td>\n",
              "      <td>0.071993</td>\n",
              "      <td>-0.069773</td>\n",
              "      <td>0.147060</td>\n",
              "      <td>0.118500</td>\n",
              "      <td>0.147700</td>\n",
              "      <td>-0.84431</td>\n",
              "      <td>0.147600</td>\n",
              "      <td>0.64804</td>\n",
              "      <td>-0.559260</td>\n",
              "      <td>0.50164</td>\n",
              "      <td>-0.073356</td>\n",
              "      <td>-0.412910</td>\n",
              "      <td>-0.536110</td>\n",
              "      <td>0.001539</td>\n",
              "      <td>0.130580</td>\n",
              "      <td>0.41344</td>\n",
              "      <td>-0.469950</td>\n",
              "      <td>-0.395550</td>\n",
              "      <td>0.31692</td>\n",
              "      <td>0.142350</td>\n",
              "      <td>-0.027840</td>\n",
              "      <td>0.15000</td>\n",
              "      <td>0.046728</td>\n",
              "      <td>-0.484600</td>\n",
              "      <td>-2.1998</td>\n",
              "      <td>0.956550</td>\n",
              "      <td>-0.52361</td>\n",
              "      <td>-0.249620</td>\n",
              "      <td>0.071318</td>\n",
              "      <td>3.2888</td>\n",
              "      <td>0.203260</td>\n",
              "      <td>-0.382280</td>\n",
              "      <td>-0.66121</td>\n",
              "      <td>-0.137100</td>\n",
              "      <td>-0.769120</td>\n",
              "      <td>-0.099412</td>\n",
              "      <td>0.212310</td>\n",
              "      <td>-0.990460</td>\n",
              "      <td>-0.48150</td>\n",
              "      <td>0.059310</td>\n",
              "      <td>-0.289030</td>\n",
              "      <td>0.922230</td>\n",
              "      <td>-0.907380</td>\n",
              "      <td>-0.053878</td>\n",
              "      <td>1.055700</td>\n",
              "      <td>-0.983100</td>\n",
              "      <td>0.167570</td>\n",
              "      <td>-0.816590</td>\n",
              "      <td>-0.12107</td>\n",
              "    </tr>\n",
              "    <tr>\n",
              "      <th>during</th>\n",
              "      <td>0.29784</td>\n",
              "      <td>-0.018422</td>\n",
              "      <td>-0.718910</td>\n",
              "      <td>-0.465100</td>\n",
              "      <td>-0.456610</td>\n",
              "      <td>-0.004215</td>\n",
              "      <td>-0.74598</td>\n",
              "      <td>0.346620</td>\n",
              "      <td>-0.51781</td>\n",
              "      <td>-0.587700</td>\n",
              "      <td>0.18398</td>\n",
              "      <td>-0.369030</td>\n",
              "      <td>-0.522250</td>\n",
              "      <td>-0.140820</td>\n",
              "      <td>0.834460</td>\n",
              "      <td>-0.269620</td>\n",
              "      <td>-0.89364</td>\n",
              "      <td>-0.118130</td>\n",
              "      <td>-1.307600</td>\n",
              "      <td>0.47500</td>\n",
              "      <td>0.528150</td>\n",
              "      <td>-0.021974</td>\n",
              "      <td>0.61869</td>\n",
              "      <td>-0.653620</td>\n",
              "      <td>-0.142980</td>\n",
              "      <td>-1.6466</td>\n",
              "      <td>-0.053050</td>\n",
              "      <td>-0.17046</td>\n",
              "      <td>0.170480</td>\n",
              "      <td>0.757560</td>\n",
              "      <td>3.5832</td>\n",
              "      <td>0.137750</td>\n",
              "      <td>-0.378110</td>\n",
              "      <td>-0.48736</td>\n",
              "      <td>0.006991</td>\n",
              "      <td>0.599130</td>\n",
              "      <td>0.314040</td>\n",
              "      <td>0.307340</td>\n",
              "      <td>-0.423970</td>\n",
              "      <td>0.35383</td>\n",
              "      <td>-0.971510</td>\n",
              "      <td>0.160820</td>\n",
              "      <td>-0.636660</td>\n",
              "      <td>-0.204490</td>\n",
              "      <td>-0.070846</td>\n",
              "      <td>-0.322190</td>\n",
              "      <td>-0.049254</td>\n",
              "      <td>-0.418650</td>\n",
              "      <td>-0.689900</td>\n",
              "      <td>-0.54908</td>\n",
              "    </tr>\n",
              "    <tr>\n",
              "      <th>before</th>\n",
              "      <td>0.30806</td>\n",
              "      <td>-0.296650</td>\n",
              "      <td>-0.257060</td>\n",
              "      <td>-0.587100</td>\n",
              "      <td>0.095135</td>\n",
              "      <td>-0.152110</td>\n",
              "      <td>-0.91478</td>\n",
              "      <td>0.757270</td>\n",
              "      <td>-0.30423</td>\n",
              "      <td>-0.290580</td>\n",
              "      <td>-0.13034</td>\n",
              "      <td>-0.100950</td>\n",
              "      <td>-0.897550</td>\n",
              "      <td>-0.004783</td>\n",
              "      <td>0.800600</td>\n",
              "      <td>0.169630</td>\n",
              "      <td>-0.50634</td>\n",
              "      <td>-0.658420</td>\n",
              "      <td>-1.133900</td>\n",
              "      <td>-0.11095</td>\n",
              "      <td>0.654180</td>\n",
              "      <td>0.353780</td>\n",
              "      <td>0.63650</td>\n",
              "      <td>-0.300830</td>\n",
              "      <td>0.026192</td>\n",
              "      <td>-1.9383</td>\n",
              "      <td>0.690730</td>\n",
              "      <td>0.17019</td>\n",
              "      <td>0.199220</td>\n",
              "      <td>-0.393070</td>\n",
              "      <td>3.4795</td>\n",
              "      <td>0.325460</td>\n",
              "      <td>-0.763140</td>\n",
              "      <td>-0.15125</td>\n",
              "      <td>0.181690</td>\n",
              "      <td>-0.007695</td>\n",
              "      <td>0.555250</td>\n",
              "      <td>0.561420</td>\n",
              "      <td>0.279700</td>\n",
              "      <td>-0.12891</td>\n",
              "      <td>-0.390370</td>\n",
              "      <td>0.004439</td>\n",
              "      <td>-0.323670</td>\n",
              "      <td>0.009888</td>\n",
              "      <td>-0.378660</td>\n",
              "      <td>0.300180</td>\n",
              "      <td>0.208750</td>\n",
              "      <td>-0.538440</td>\n",
              "      <td>-0.110580</td>\n",
              "      <td>-0.54785</td>\n",
              "    </tr>\n",
              "    <tr>\n",
              "      <th>may</th>\n",
              "      <td>0.70480</td>\n",
              "      <td>0.222610</td>\n",
              "      <td>0.086997</td>\n",
              "      <td>-0.212410</td>\n",
              "      <td>-0.089356</td>\n",
              "      <td>0.437420</td>\n",
              "      <td>-0.28170</td>\n",
              "      <td>0.133780</td>\n",
              "      <td>-0.50859</td>\n",
              "      <td>-0.182420</td>\n",
              "      <td>0.49506</td>\n",
              "      <td>0.424610</td>\n",
              "      <td>0.046785</td>\n",
              "      <td>-0.501210</td>\n",
              "      <td>0.846210</td>\n",
              "      <td>1.014600</td>\n",
              "      <td>-0.43954</td>\n",
              "      <td>-0.654990</td>\n",
              "      <td>-0.647060</td>\n",
              "      <td>-0.23365</td>\n",
              "      <td>0.276120</td>\n",
              "      <td>-0.632940</td>\n",
              "      <td>0.91064</td>\n",
              "      <td>0.033327</td>\n",
              "      <td>-0.058451</td>\n",
              "      <td>-1.6059</td>\n",
              "      <td>-0.347410</td>\n",
              "      <td>-0.36285</td>\n",
              "      <td>0.467230</td>\n",
              "      <td>0.244000</td>\n",
              "      <td>3.4249</td>\n",
              "      <td>0.056168</td>\n",
              "      <td>-0.719910</td>\n",
              "      <td>-0.88332</td>\n",
              "      <td>0.337410</td>\n",
              "      <td>-0.532360</td>\n",
              "      <td>0.339910</td>\n",
              "      <td>0.023837</td>\n",
              "      <td>0.238400</td>\n",
              "      <td>-0.38713</td>\n",
              "      <td>-0.496210</td>\n",
              "      <td>-0.148460</td>\n",
              "      <td>0.046201</td>\n",
              "      <td>0.103250</td>\n",
              "      <td>0.173740</td>\n",
              "      <td>0.137630</td>\n",
              "      <td>0.084989</td>\n",
              "      <td>-0.396880</td>\n",
              "      <td>0.176320</td>\n",
              "      <td>0.31862</td>\n",
              "    </tr>\n",
              "    <tr>\n",
              "      <th>since</th>\n",
              "      <td>0.15423</td>\n",
              "      <td>-0.125520</td>\n",
              "      <td>0.022279</td>\n",
              "      <td>-0.067561</td>\n",
              "      <td>-0.359750</td>\n",
              "      <td>0.144090</td>\n",
              "      <td>-1.09020</td>\n",
              "      <td>-0.028693</td>\n",
              "      <td>-0.43147</td>\n",
              "      <td>-0.137810</td>\n",
              "      <td>0.37841</td>\n",
              "      <td>-0.630310</td>\n",
              "      <td>-0.955200</td>\n",
              "      <td>-0.200590</td>\n",
              "      <td>1.261300</td>\n",
              "      <td>0.355060</td>\n",
              "      <td>-0.48844</td>\n",
              "      <td>-0.110500</td>\n",
              "      <td>-0.994670</td>\n",
              "      <td>0.56709</td>\n",
              "      <td>0.014872</td>\n",
              "      <td>-0.108730</td>\n",
              "      <td>0.41999</td>\n",
              "      <td>-0.251970</td>\n",
              "      <td>-0.423850</td>\n",
              "      <td>-1.6795</td>\n",
              "      <td>0.021355</td>\n",
              "      <td>-0.11534</td>\n",
              "      <td>0.010638</td>\n",
              "      <td>0.913050</td>\n",
              "      <td>3.6854</td>\n",
              "      <td>-0.117510</td>\n",
              "      <td>-0.093662</td>\n",
              "      <td>-0.43435</td>\n",
              "      <td>0.013842</td>\n",
              "      <td>-0.183450</td>\n",
              "      <td>0.040666</td>\n",
              "      <td>0.397880</td>\n",
              "      <td>-0.336220</td>\n",
              "      <td>-0.20412</td>\n",
              "      <td>-1.131900</td>\n",
              "      <td>-0.123220</td>\n",
              "      <td>-0.242990</td>\n",
              "      <td>-0.112860</td>\n",
              "      <td>-0.557860</td>\n",
              "      <td>0.118930</td>\n",
              "      <td>-0.439170</td>\n",
              "      <td>-0.285070</td>\n",
              "      <td>-0.630300</td>\n",
              "      <td>-0.58676</td>\n",
              "    </tr>\n",
              "    <tr>\n",
              "      <th>many</th>\n",
              "      <td>0.69790</td>\n",
              "      <td>0.082340</td>\n",
              "      <td>0.041526</td>\n",
              "      <td>-0.507040</td>\n",
              "      <td>-0.158010</td>\n",
              "      <td>0.360480</td>\n",
              "      <td>-1.07450</td>\n",
              "      <td>-0.239270</td>\n",
              "      <td>-0.74704</td>\n",
              "      <td>0.160070</td>\n",
              "      <td>-0.18420</td>\n",
              "      <td>-0.079723</td>\n",
              "      <td>0.320440</td>\n",
              "      <td>-0.203260</td>\n",
              "      <td>0.595910</td>\n",
              "      <td>-0.067483</td>\n",
              "      <td>0.34272</td>\n",
              "      <td>-0.054553</td>\n",
              "      <td>0.061765</td>\n",
              "      <td>-1.02850</td>\n",
              "      <td>-0.019078</td>\n",
              "      <td>0.065302</td>\n",
              "      <td>0.42329</td>\n",
              "      <td>0.456240</td>\n",
              "      <td>0.205530</td>\n",
              "      <td>-1.2436</td>\n",
              "      <td>-1.189500</td>\n",
              "      <td>-0.66457</td>\n",
              "      <td>-0.049265</td>\n",
              "      <td>-0.267790</td>\n",
              "      <td>4.0103</td>\n",
              "      <td>0.445700</td>\n",
              "      <td>0.404230</td>\n",
              "      <td>-1.06010</td>\n",
              "      <td>0.282900</td>\n",
              "      <td>0.367240</td>\n",
              "      <td>-0.400970</td>\n",
              "      <td>-0.043859</td>\n",
              "      <td>-0.509930</td>\n",
              "      <td>0.39467</td>\n",
              "      <td>-0.687130</td>\n",
              "      <td>0.193180</td>\n",
              "      <td>0.463370</td>\n",
              "      <td>0.917070</td>\n",
              "      <td>0.495510</td>\n",
              "      <td>0.156500</td>\n",
              "      <td>-0.867410</td>\n",
              "      <td>0.037265</td>\n",
              "      <td>-0.604430</td>\n",
              "      <td>-0.64699</td>\n",
              "    </tr>\n",
              "  </tbody>\n",
              "</table>\n",
              "</div>"
            ],
            "text/plain": [
              "             1         2         3   ...        48        49       50\n",
              "so      0.60308 -0.320240  0.088857  ... -0.251870 -0.268790  0.36657\n",
              "them    0.64642 -0.556000  0.470380  ... -0.358310 -0.109950 -0.44700\n",
              "what    0.45323  0.059811 -0.105770  ...  0.532400 -0.251030  0.62546\n",
              "him     0.11964 -0.045405  0.051100  ... -0.627920  0.024592 -0.14341\n",
              "united -0.39874  0.071993 -0.069773  ...  0.167570 -0.816590 -0.12107\n",
              "during  0.29784 -0.018422 -0.718910  ... -0.418650 -0.689900 -0.54908\n",
              "before  0.30806 -0.296650 -0.257060  ... -0.538440 -0.110580 -0.54785\n",
              "may     0.70480  0.222610  0.086997  ... -0.396880  0.176320  0.31862\n",
              "since   0.15423 -0.125520  0.022279  ... -0.285070 -0.630300 -0.58676\n",
              "many    0.69790  0.082340  0.041526  ...  0.037265 -0.604430 -0.64699\n",
              "\n",
              "[10 rows x 50 columns]"
            ]
          },
          "metadata": {
            "tags": []
          },
          "execution_count": 7
        }
      ]
    },
    {
      "cell_type": "markdown",
      "metadata": {
        "id": "nip7YmXG9Kr8",
        "colab_type": "text"
      },
      "source": [
        "It is seq2seq model using attention. We gonna first create function to form word to index and index to word and add SOS [Start of Sentence] and EOS [End of a Sentence] tokens to each sentences."
      ]
    },
    {
      "cell_type": "code",
      "metadata": {
        "id": "UPT67oxLWe-Z",
        "colab_type": "code",
        "colab": {}
      },
      "source": [
        "SOS_token = 0\n",
        "EOS_token = 1\n",
        "\n",
        "\n",
        "class Lang:\n",
        "    def __init__(self, name):\n",
        "        self.name = name\n",
        "        self.word2index = {}\n",
        "        self.word2count = {}\n",
        "        self.index2word = {0: \"SOS\", 1: \"EOS\"}\n",
        "        self.n_words = 2  # Count SOS and EOS\n",
        "\n",
        "    def addSentence(self, sentence):\n",
        "        for word in sentence.split(' '):\n",
        "            self.addWord(word)\n",
        "\n",
        "    def addWord(self, word):\n",
        "        if word not in self.word2index:\n",
        "            self.word2index[word] = self.n_words\n",
        "            self.word2count[word] = 1\n",
        "            self.index2word[self.n_words] = word\n",
        "            self.n_words += 1\n",
        "        else:\n",
        "            self.word2count[word] += 1"
      ],
      "execution_count": null,
      "outputs": []
    },
    {
      "cell_type": "markdown",
      "metadata": {
        "id": "ipT4Wb6q9ucq",
        "colab_type": "text"
      },
      "source": [
        "In this following step we gonna normalize the string by coverting all to a lower case letters and remove punctuations using regural expressions library"
      ]
    },
    {
      "cell_type": "code",
      "metadata": {
        "id": "0MvHJ7wXWiv5",
        "colab_type": "code",
        "colab": {}
      },
      "source": [
        "# Turn a Unicode string to plain ASCII, thanks to\n",
        "# https://stackoverflow.com/a/518232/2809427\n",
        "def unicodeToAscii(s):\n",
        "    return ''.join(\n",
        "        c for c in unicodedata.normalize('NFD', s)\n",
        "        if unicodedata.category(c) != 'Mn'\n",
        "    )\n",
        "\n",
        "# Lowercase, trim, and remove non-letter characters\n",
        "\n",
        "\n",
        "def normalizeString(s):\n",
        "    s = unicodeToAscii(s.lower().strip())\n",
        "    s = re.sub(r\"([.!?])\", r\" \\1\", s)\n",
        "    s = re.sub(r\"[^a-zA-Z.!?]+\", r\" \", s)\n",
        "    return s"
      ],
      "execution_count": null,
      "outputs": []
    },
    {
      "cell_type": "markdown",
      "metadata": {
        "id": "ZYHaLv9d-Ayx",
        "colab_type": "text"
      },
      "source": [
        "The next step is we gonna read lines from the data from the drive which are seperated by tab space are split into two categories (for eg: lang1 = English, lang2 = French). Then we are gonna shrink the data to maximum size of 10."
      ]
    },
    {
      "cell_type": "code",
      "metadata": {
        "id": "F2CAfNdFWp5E",
        "colab_type": "code",
        "colab": {}
      },
      "source": [
        "def readLangs(lang1, lang2, reverse=False):\n",
        "    print(\"Reading lines...\")\n",
        "\n",
        "    # Read the file and split into lines\n",
        "    lines = open('/content/drive/My Drive/Colab Notebooks/data/%s-%s.txt' % (lang1, lang2), encoding='utf-8').\\\n",
        "        read().strip().split('\\n')\n",
        "\n",
        "    # Split every line into pairs and normalize\n",
        "    pairs = [[normalizeString(s) for s in l.split('\\t')] for l in lines]\n",
        "\n",
        "    # Reverse pairs, make Lang instances\n",
        "    if reverse:\n",
        "        pairs = [list(reversed(p)) for p in pairs]\n",
        "        input_lang = Lang(lang2)\n",
        "        output_lang = Lang(lang1)\n",
        "    else:\n",
        "        input_lang = Lang(lang1)\n",
        "        output_lang = Lang(lang2)\n",
        "\n",
        "    return input_lang, output_lang, pairs"
      ],
      "execution_count": null,
      "outputs": []
    },
    {
      "cell_type": "code",
      "metadata": {
        "id": "Uy0fxkSKXOia",
        "colab_type": "code",
        "colab": {}
      },
      "source": [
        "MAX_LENGTH = 10\n",
        "\n",
        "eng_prefixes = (\n",
        "    \"i am \", \"i m \",\n",
        "    \"he is\", \"he s \",\n",
        "    \"she is\", \"she s \",\n",
        "    \"you are\", \"you re \",\n",
        "    \"we are\", \"we re \",\n",
        "    \"they are\", \"they re \"\n",
        ")\n",
        "\n",
        "\n",
        "def filterPair(p):\n",
        "    return len(p[0].split(' ')) < MAX_LENGTH and \\\n",
        "        len(p[1].split(' ')) < MAX_LENGTH and \\\n",
        "        p[1].startswith(eng_prefixes)\n",
        "\n",
        "\n",
        "def filterPairs(pairs):\n",
        "    return [pair for pair in pairs if filterPair(pair)]"
      ],
      "execution_count": null,
      "outputs": []
    },
    {
      "cell_type": "markdown",
      "metadata": {
        "id": "i7RTLgohABtd",
        "colab_type": "text"
      },
      "source": [
        "Finally, the prerocessing steps are applied to the data."
      ]
    },
    {
      "cell_type": "code",
      "metadata": {
        "id": "RXI6ZZ4phaED",
        "colab_type": "code",
        "colab": {
          "base_uri": "https://localhost:8080/",
          "height": 153
        },
        "outputId": "2f832ee0-511f-4194-d441-b6793dca7da3"
      },
      "source": [
        "def prepareData(lang1, lang2, reverse=False):\n",
        "    input_lang, output_lang, pairs = readLangs(lang1, lang2, reverse)\n",
        "    print(\"Read %s sentence pairs\" % len(pairs))\n",
        "    pairs = filterPairs(pairs)\n",
        "    print(\"Trimmed to %s sentence pairs\" % len(pairs))\n",
        "    print(\"Counting words...\")\n",
        "    for pair in pairs:\n",
        "        input_lang.addSentence(pair[0])\n",
        "        output_lang.addSentence(pair[1])\n",
        "    print(\"Counted words:\")\n",
        "    print(input_lang.name, input_lang.n_words)\n",
        "    print(output_lang.name, output_lang.n_words)\n",
        "    return input_lang, output_lang, pairs\n",
        "\n",
        "\n",
        "input_lang, output_lang, pairs = prepareData('eng', 'fra', True)\n",
        "print(random.choice(pairs))"
      ],
      "execution_count": null,
      "outputs": [
        {
          "output_type": "stream",
          "text": [
            "Reading lines...\n",
            "Read 135842 sentence pairs\n",
            "Trimmed to 10599 sentence pairs\n",
            "Counting words...\n",
            "Counted words:\n",
            "fra 4345\n",
            "eng 2803\n",
            "['je suis votre debiteur .', 'i am in your debt .']\n"
          ],
          "name": "stdout"
        }
      ]
    },
    {
      "cell_type": "markdown",
      "metadata": {
        "id": "Xlv2c34VAjQk",
        "colab_type": "text"
      },
      "source": [
        "The weight vectors defined by glove are applied to our actual data"
      ]
    },
    {
      "cell_type": "code",
      "metadata": {
        "id": "_mXhrYlDnnVJ",
        "colab_type": "code",
        "colab": {}
      },
      "source": [
        "matrix_len = input_lang.n_words\n",
        "\n",
        "weights_matrix = np.zeros((matrix_len, 50))\n",
        "words_found = 0\n",
        "\n",
        "for i, word in enumerate(input_lang.word2index):\n",
        "    try: \n",
        "        weights_matrix[i] = glove[word]\n",
        "        words_found += 1\n",
        "    except KeyError:\n",
        "        weights_matrix[i] = np.random.normal(scale=0.6, size=(50, ))"
      ],
      "execution_count": null,
      "outputs": []
    },
    {
      "cell_type": "markdown",
      "metadata": {
        "id": "lA5uazZ3AsNd",
        "colab_type": "text"
      },
      "source": [
        "The seq2seq model contains two RNN's - Encoder and Decoder.\n",
        "First let us create the Encoder RNN."
      ]
    },
    {
      "cell_type": "code",
      "metadata": {
        "id": "78QPr7CenwwW",
        "colab_type": "code",
        "colab": {}
      },
      "source": [
        "class EncoderRNN(nn.Module):\n",
        "    def __init__(self, input_size, hidden_size):\n",
        "        super(EncoderRNN, self).__init__()\n",
        "        self.hidden_size = hidden_size\n",
        "\n",
        "        self.embedding = nn.Embedding(input_size, hidden_size)\n",
        "        self.gru = nn.GRU(hidden_size, hidden_size)\n",
        "\n",
        "    def forward(self, input, hidden):\n",
        "        embedded = self.embedding(input).view(1, 1, -1)\n",
        "        output = embedded\n",
        "        output, hidden = self.gru(output, hidden)\n",
        "        return output, hidden\n",
        "\n",
        "    def initHidden(self):\n",
        "        return torch.zeros(1, 1, self.hidden_size, device=device)"
      ],
      "execution_count": null,
      "outputs": []
    },
    {
      "cell_type": "markdown",
      "metadata": {
        "id": "B5kk7A9OBLA2",
        "colab_type": "text"
      },
      "source": [
        "Then the Decoder RNN is created and attention weights are applied to output of encoder.\n"
      ]
    },
    {
      "cell_type": "code",
      "metadata": {
        "id": "XNKaOOtGn3a-",
        "colab_type": "code",
        "colab": {}
      },
      "source": [
        "class AttnDecoderRNN(nn.Module):\n",
        "    def __init__(self, hidden_size, output_size, dropout_p=0.1, max_length=MAX_LENGTH):\n",
        "        super(AttnDecoderRNN, self).__init__()\n",
        "        self.hidden_size = hidden_size\n",
        "        self.output_size = output_size\n",
        "        self.dropout_p = dropout_p\n",
        "        self.max_length = max_length\n",
        "\n",
        "        self.embedding = nn.Embedding(self.output_size, self.hidden_size)\n",
        "        self.attn = nn.Linear(self.hidden_size * 2, self.max_length)\n",
        "        self.attn_combine = nn.Linear(self.hidden_size * 2, self.hidden_size)\n",
        "        self.dropout = nn.Dropout(self.dropout_p)\n",
        "        self.gru = nn.GRU(self.hidden_size, self.hidden_size)\n",
        "        self.out = nn.Linear(self.hidden_size, self.output_size)\n",
        "\n",
        "    def forward(self, input, hidden, encoder_outputs):\n",
        "        embedded = self.embedding(input).view(1, 1, -1)\n",
        "        embedded = self.dropout(embedded)\n",
        "\n",
        "        attn_weights = F.softmax(\n",
        "            self.attn(torch.cat((embedded[0], hidden[0]), 1)), dim=1)\n",
        "        attn_applied = torch.bmm(attn_weights.unsqueeze(0),\n",
        "                                 encoder_outputs.unsqueeze(0))\n",
        "\n",
        "        output = torch.cat((embedded[0], attn_applied[0]), 1)\n",
        "        output = self.attn_combine(output).unsqueeze(0)\n",
        "\n",
        "        output = F.relu(output)\n",
        "        output, hidden = self.gru(output, hidden)\n",
        "\n",
        "        output = F.log_softmax(self.out(output[0]), dim=1)\n",
        "        return output, hidden, attn_weights\n",
        "\n",
        "    def initHidden(self):\n",
        "        return torch.zeros(1, 1, self.hidden_size, device=device)"
      ],
      "execution_count": null,
      "outputs": []
    },
    {
      "cell_type": "markdown",
      "metadata": {
        "id": "kE1yzOsLBqZj",
        "colab_type": "text"
      },
      "source": [
        "Training the model"
      ]
    },
    {
      "cell_type": "code",
      "metadata": {
        "id": "aZzQr305oAWr",
        "colab_type": "code",
        "colab": {}
      },
      "source": [
        "def indexesFromSentence(lang, sentence):\n",
        "    return [lang.word2index[word] for word in sentence.split(' ')]\n",
        "\n",
        "\n",
        "def tensorFromSentence(lang, sentence):\n",
        "    indexes = indexesFromSentence(lang, sentence)\n",
        "    indexes.append(EOS_token)\n",
        "    return torch.tensor(indexes, dtype=torch.long, device=device).view(-1, 1)\n",
        "\n",
        "\n",
        "def tensorsFromPair(pair):\n",
        "    input_tensor = tensorFromSentence(input_lang, pair[0])\n",
        "    target_tensor = tensorFromSentence(output_lang, pair[1])\n",
        "    return (input_tensor, target_tensor)"
      ],
      "execution_count": null,
      "outputs": []
    },
    {
      "cell_type": "markdown",
      "metadata": {
        "id": "262O-myYB1rT",
        "colab_type": "text"
      },
      "source": [
        "Teacher forcing approach is followed with 50% ratio. We use the exact target as the input in decoder."
      ]
    },
    {
      "cell_type": "code",
      "metadata": {
        "id": "36ivM0XkoHkY",
        "colab_type": "code",
        "colab": {}
      },
      "source": [
        "teacher_forcing_ratio = 0.5\n",
        "\n",
        "\n",
        "def train(input_tensor, target_tensor, encoder, decoder, encoder_optimizer, decoder_optimizer, criterion, max_length=MAX_LENGTH):\n",
        "    encoder_hidden = encoder.initHidden()\n",
        "\n",
        "    encoder_optimizer.zero_grad()\n",
        "    decoder_optimizer.zero_grad()\n",
        "\n",
        "    input_length = input_tensor.size(0)\n",
        "    target_length = target_tensor.size(0)\n",
        "\n",
        "    encoder_outputs = torch.zeros(max_length, encoder.hidden_size, device=device)\n",
        "\n",
        "    loss = 0\n",
        "\n",
        "    for ei in range(input_length):\n",
        "        encoder_output, encoder_hidden = encoder(\n",
        "            input_tensor[ei], encoder_hidden)\n",
        "        encoder_outputs[ei] = encoder_output[0, 0]\n",
        "\n",
        "    decoder_input = torch.tensor([[SOS_token]], device=device)\n",
        "\n",
        "    decoder_hidden = encoder_hidden\n",
        "\n",
        "    use_teacher_forcing = True if random.random() < teacher_forcing_ratio else False\n",
        "\n",
        "    if use_teacher_forcing:\n",
        "        # Teacher forcing: Feed the target as the next input\n",
        "        for di in range(target_length):\n",
        "            decoder_output, decoder_hidden, decoder_attention = decoder(\n",
        "                decoder_input, decoder_hidden, encoder_outputs)\n",
        "            loss += criterion(decoder_output, target_tensor[di])\n",
        "            decoder_input = target_tensor[di]  # Teacher forcing\n",
        "\n",
        "    else:\n",
        "        # Without teacher forcing: use its own predictions as the next input\n",
        "        for di in range(target_length):\n",
        "            decoder_output, decoder_hidden, decoder_attention = decoder(\n",
        "                decoder_input, decoder_hidden, encoder_outputs)\n",
        "            topv, topi = decoder_output.topk(1)\n",
        "            decoder_input = topi.squeeze().detach()  # detach from history as input\n",
        "\n",
        "            loss += criterion(decoder_output, target_tensor[di])\n",
        "            if decoder_input.item() == EOS_token:\n",
        "                break\n",
        "\n",
        "    loss.backward()\n",
        "\n",
        "    encoder_optimizer.step()\n",
        "    decoder_optimizer.step()\n",
        "\n",
        "    return loss.item() / target_length"
      ],
      "execution_count": null,
      "outputs": []
    },
    {
      "cell_type": "markdown",
      "metadata": {
        "id": "p-Gu4yHYCRRS",
        "colab_type": "text"
      },
      "source": [
        "This is a helper function to print time elapsed and estimated time remaining given the current time and progress %."
      ]
    },
    {
      "cell_type": "code",
      "metadata": {
        "id": "GY-MA1rqoSRx",
        "colab_type": "code",
        "colab": {}
      },
      "source": [
        "import time\n",
        "import math\n",
        "\n",
        "\n",
        "def asMinutes(s):\n",
        "    m = math.floor(s / 60)\n",
        "    s -= m * 60\n",
        "    return '%dm %ds' % (m, s)\n",
        "\n",
        "\n",
        "def timeSince(since, percent):\n",
        "    now = time.time()\n",
        "    s = now - since\n",
        "    es = s / (percent)\n",
        "    rs = es - s\n",
        "    return '%s (- %s)' % (asMinutes(s), asMinutes(rs))"
      ],
      "execution_count": null,
      "outputs": []
    },
    {
      "cell_type": "code",
      "metadata": {
        "id": "WdsVtV1goVTB",
        "colab_type": "code",
        "colab": {}
      },
      "source": [
        "def trainIters(encoder, decoder, n_iters, print_every=1000, plot_every=100, learning_rate=0.01):\n",
        "    start = time.time()\n",
        "    plot_losses = []\n",
        "    print_loss_total = 0  # Reset every print_every\n",
        "    plot_loss_total = 0  # Reset every plot_every\n",
        "\n",
        "    encoder_optimizer = optim.SGD(encoder.parameters(), lr=learning_rate)\n",
        "    decoder_optimizer = optim.SGD(decoder.parameters(), lr=learning_rate)\n",
        "    training_pairs = [tensorsFromPair(random.choice(pairs))\n",
        "                      for i in range(n_iters)]\n",
        "    criterion = nn.NLLLoss()\n",
        "\n",
        "    for iter in range(1, n_iters + 1):\n",
        "        training_pair = training_pairs[iter - 1]\n",
        "        input_tensor = training_pair[0]\n",
        "        target_tensor = training_pair[1]\n",
        "\n",
        "        loss = train(input_tensor, target_tensor, encoder,\n",
        "                     decoder, encoder_optimizer, decoder_optimizer, criterion)\n",
        "        print_loss_total += loss\n",
        "        plot_loss_total += loss\n",
        "\n",
        "        if iter % print_every == 0:\n",
        "            print_loss_avg = print_loss_total / print_every\n",
        "            print_loss_total = 0\n",
        "            print('%s (%d %d%%) %.4f' % (timeSince(start, iter / n_iters),\n",
        "                                         iter, iter / n_iters * 100, print_loss_avg))\n",
        "\n",
        "        if iter % plot_every == 0:\n",
        "            plot_loss_avg = plot_loss_total / plot_every\n",
        "            plot_losses.append(plot_loss_avg)\n",
        "            plot_loss_total = 0\n",
        "\n",
        "    showPlot(plot_losses)"
      ],
      "execution_count": null,
      "outputs": []
    },
    {
      "cell_type": "markdown",
      "metadata": {
        "id": "JyYB4qqjCWMx",
        "colab_type": "text"
      },
      "source": [
        "Plotting the result"
      ]
    },
    {
      "cell_type": "code",
      "metadata": {
        "id": "wBRnzc9noYQ8",
        "colab_type": "code",
        "colab": {}
      },
      "source": [
        "import matplotlib.pyplot as plt\n",
        "plt.switch_backend('agg')\n",
        "import matplotlib.ticker as ticker\n",
        "import numpy as np\n",
        "\n",
        "\n",
        "def showPlot(points):\n",
        "    plt.figure()\n",
        "    fig, ax = plt.subplots()\n",
        "    # this locator puts ticks at regular intervals\n",
        "    loc = ticker.MultipleLocator(base=0.2)\n",
        "    ax.yaxis.set_major_locator(loc)\n",
        "    plt.plot(points)"
      ],
      "execution_count": null,
      "outputs": []
    },
    {
      "cell_type": "markdown",
      "metadata": {
        "id": "1V3bJ9jdCavZ",
        "colab_type": "text"
      },
      "source": [
        "Creating a function for evaluation."
      ]
    },
    {
      "cell_type": "code",
      "metadata": {
        "id": "5yntyuNRob0d",
        "colab_type": "code",
        "colab": {}
      },
      "source": [
        "def evaluate(encoder, decoder, sentence, max_length=MAX_LENGTH):\n",
        "    with torch.no_grad():\n",
        "        input_tensor = tensorFromSentence(input_lang, sentence)\n",
        "        input_length = input_tensor.size()[0]\n",
        "        encoder_hidden = encoder.initHidden()\n",
        "\n",
        "        encoder_outputs = torch.zeros(max_length, encoder.hidden_size, device=device)\n",
        "\n",
        "        for ei in range(input_length):\n",
        "            encoder_output, encoder_hidden = encoder(input_tensor[ei],\n",
        "                                                     encoder_hidden)\n",
        "            encoder_outputs[ei] += encoder_output[0, 0]\n",
        "\n",
        "        decoder_input = torch.tensor([[SOS_token]], device=device)  # SOS\n",
        "\n",
        "        decoder_hidden = encoder_hidden\n",
        "\n",
        "        decoded_words = []\n",
        "        decoder_attentions = torch.zeros(max_length, max_length)\n",
        "\n",
        "        for di in range(max_length):\n",
        "            decoder_output, decoder_hidden, decoder_attention = decoder(\n",
        "                decoder_input, decoder_hidden, encoder_outputs)\n",
        "            decoder_attentions[di] = decoder_attention.data\n",
        "            topv, topi = decoder_output.data.topk(1)\n",
        "            if topi.item() == EOS_token:\n",
        "                decoded_words.append('<EOS>')\n",
        "                break\n",
        "            else:\n",
        "                decoded_words.append(output_lang.index2word[topi.item()])\n",
        "\n",
        "            decoder_input = topi.squeeze().detach()\n",
        "\n",
        "        return decoded_words, decoder_attentions[:di + 1]"
      ],
      "execution_count": null,
      "outputs": []
    },
    {
      "cell_type": "code",
      "metadata": {
        "id": "1B9t4iSboedF",
        "colab_type": "code",
        "colab": {}
      },
      "source": [
        "def evaluateRandomly(encoder, decoder, n=10):\n",
        "    for i in range(n):\n",
        "        pair = random.choice(pairs)\n",
        "        print('>', pair[0])\n",
        "        print('=', pair[1])\n",
        "        output_words, attentions = evaluate(encoder, decoder, pair[0])\n",
        "        output_sentence = ' '.join(output_words)\n",
        "        print('<', output_sentence)\n",
        "        print('')\n"
      ],
      "execution_count": null,
      "outputs": []
    },
    {
      "cell_type": "markdown",
      "metadata": {
        "id": "f3hd4H_fCitD",
        "colab_type": "text"
      },
      "source": [
        "We are gonna use a hidden size of 256 neurons and start the training by calling the functions."
      ]
    },
    {
      "cell_type": "code",
      "metadata": {
        "id": "TwPgyHR7ohvh",
        "colab_type": "code",
        "colab": {
          "base_uri": "https://localhost:8080/",
          "height": 272
        },
        "outputId": "477fa7a2-8af6-42d5-b905-1e0c7913b629"
      },
      "source": [
        "hidden_size = 256\n",
        "encoder1 = EncoderRNN(input_lang.n_words, hidden_size).to(device)\n",
        "attn_decoder1 = AttnDecoderRNN(hidden_size, output_lang.n_words, dropout_p=0.1).to(device)\n",
        "\n",
        "trainIters(encoder1, attn_decoder1, 75000, print_every=5000)"
      ],
      "execution_count": null,
      "outputs": [
        {
          "output_type": "stream",
          "text": [
            "2m 24s (- 33m 38s) (5000 6%) 2.8444\n",
            "4m 41s (- 30m 30s) (10000 13%) 2.2577\n",
            "6m 59s (- 27m 58s) (15000 20%) 1.9638\n",
            "9m 17s (- 25m 34s) (20000 26%) 1.7077\n",
            "11m 34s (- 23m 9s) (25000 33%) 1.5138\n",
            "13m 52s (- 20m 48s) (30000 40%) 1.3361\n",
            "16m 9s (- 18m 27s) (35000 46%) 1.2093\n",
            "18m 25s (- 16m 7s) (40000 53%) 1.0830\n",
            "20m 41s (- 13m 47s) (45000 60%) 0.9718\n",
            "22m 55s (- 11m 27s) (50000 66%) 0.8745\n",
            "25m 10s (- 9m 9s) (55000 73%) 0.8046\n",
            "27m 25s (- 6m 51s) (60000 80%) 0.7194\n",
            "29m 41s (- 4m 34s) (65000 86%) 0.6613\n",
            "31m 57s (- 2m 16s) (70000 93%) 0.5887\n",
            "34m 11s (- 0m 0s) (75000 100%) 0.5660\n"
          ],
          "name": "stdout"
        }
      ]
    },
    {
      "cell_type": "markdown",
      "metadata": {
        "id": "xWig9JoAC0vp",
        "colab_type": "text"
      },
      "source": [
        "A sample Evaluation shows the accuracy of the model. We can see that it has working almost perfectly."
      ]
    },
    {
      "cell_type": "code",
      "metadata": {
        "id": "WQuj7kEh0bMB",
        "colab_type": "code",
        "colab": {
          "base_uri": "https://localhost:8080/",
          "height": 697
        },
        "outputId": "a613d5af-a734-45b5-9585-ea46de0e6a7c"
      },
      "source": [
        "evaluateRandomly(encoder1, attn_decoder1)"
      ],
      "execution_count": null,
      "outputs": [
        {
          "output_type": "stream",
          "text": [
            "> c est mon meilleur ami .\n",
            "= he s my best friend .\n",
            "< he is my best friend . <EOS>\n",
            "\n",
            "> ce n est pas un saint .\n",
            "= he s no saint .\n",
            "< he s no a . <EOS>\n",
            "\n",
            "> tu es une merveilleuse amie .\n",
            "= you re a wonderful friend .\n",
            "< you re a wonderful friend . <EOS>\n",
            "\n",
            "> c est par nature une personne genereuse .\n",
            "= he is by nature a generous person .\n",
            "< he is certain by a a person person . <EOS>\n",
            "\n",
            "> j en ai marre de tes plaintes .\n",
            "= i m getting tired of your complaints .\n",
            "< i m sick of your complaints . <EOS>\n",
            "\n",
            "> je suis accoutume a travailler toute la nuit .\n",
            "= i m used to working all night .\n",
            "< i m used to working all night . <EOS>\n",
            "\n",
            "> elle est facile a vivre .\n",
            "= she is easygoing .\n",
            "< she is easygoing . <EOS>\n",
            "\n",
            "> elle est privee de sortie .\n",
            "= she is forbidden to go out .\n",
            "< she is loved to go . <EOS>\n",
            "\n",
            "> c est vous le plus vieux .\n",
            "= you re the oldest .\n",
            "< you re the oldest . <EOS>\n",
            "\n",
            "> vous etes degoutantes .\n",
            "= you re disgusting .\n",
            "< you re disgusting . <EOS>\n",
            "\n"
          ],
          "name": "stdout"
        }
      ]
    },
    {
      "cell_type": "code",
      "metadata": {
        "id": "6SzYkM5g0qwu",
        "colab_type": "code",
        "colab": {}
      },
      "source": [
        "%matplotlib inline"
      ],
      "execution_count": null,
      "outputs": []
    },
    {
      "cell_type": "markdown",
      "metadata": {
        "id": "IMIRXheBDHCY",
        "colab_type": "text"
      },
      "source": [
        "The following plot shows the attentions applied to each word."
      ]
    },
    {
      "cell_type": "code",
      "metadata": {
        "id": "gE5dNSFP0liV",
        "colab_type": "code",
        "colab": {
          "base_uri": "https://localhost:8080/",
          "height": 292
        },
        "outputId": "98d010c3-783e-460f-d50d-6ef97803661c"
      },
      "source": [
        "output_words, attentions = evaluate(\n",
        "    encoder1, attn_decoder1, \"je suis trop froid .\")\n",
        "plt.matshow(attentions.numpy())"
      ],
      "execution_count": null,
      "outputs": [
        {
          "output_type": "execute_result",
          "data": {
            "text/plain": [
              "<matplotlib.image.AxesImage at 0x7f274e274f28>"
            ]
          },
          "metadata": {
            "tags": []
          },
          "execution_count": 30
        },
        {
          "output_type": "display_data",
          "data": {
            "image/png": "[encoded data removed]",
            "text/plain": [
              "<Figure size 480x288 with 1 Axes>"
            ]
          },
          "metadata": {
            "tags": [],
            "needs_background": "light"
          }
        }
      ]
    },
    {
      "cell_type": "code",
      "metadata": {
        "id": "RIDP-rI402FX",
        "colab_type": "code",
        "colab": {
          "base_uri": "https://localhost:8080/",
          "height": 1000
        },
        "outputId": "cc25db1a-c1dc-444c-9864-12248894e0dc"
      },
      "source": [
        "def showAttention(input_sentence, output_words, attentions):\n",
        "    # Set up figure with colorbar\n",
        "    fig = plt.figure()\n",
        "    ax = fig.add_subplot(111)\n",
        "    cax = ax.matshow(attentions.numpy(), cmap='bone')\n",
        "    fig.colorbar(cax)\n",
        "\n",
        "    # Set up axes\n",
        "    ax.set_xticklabels([''] + input_sentence.split(' ') +\n",
        "                       ['<EOS>'], rotation=90)\n",
        "    ax.set_yticklabels([''] + output_words)\n",
        "\n",
        "    # Show label at every tick\n",
        "    ax.xaxis.set_major_locator(ticker.MultipleLocator(1))\n",
        "    ax.yaxis.set_major_locator(ticker.MultipleLocator(1))\n",
        "\n",
        "    plt.show()\n",
        "\n",
        "\n",
        "def evaluateAndShowAttention(input_sentence):\n",
        "    output_words, attentions = evaluate(\n",
        "        encoder1, attn_decoder1, input_sentence)\n",
        "    print('input =', input_sentence)\n",
        "    print('output =', ' '.join(output_words))\n",
        "    showAttention(input_sentence, output_words, attentions)\n",
        "\n",
        "\n",
        "evaluateAndShowAttention(\"elle a cinq ans de moins que moi .\")\n",
        "\n",
        "evaluateAndShowAttention(\"elle est trop petit .\")\n",
        "\n",
        "evaluateAndShowAttention(\"je ne crains pas de mourir .\")\n",
        "\n",
        "evaluateAndShowAttention(\"c est un jeune directeur plein de talent .\")"
      ],
      "execution_count": null,
      "outputs": [
        {
          "output_type": "stream",
          "text": [
            "input = elle a cinq ans de moins que moi .\n",
            "output = she is five years younger than me . <EOS>\n"
          ],
          "name": "stdout"
        },
        {
          "output_type": "display_data",
          "data": {
            "image/png": "[encoded data removed]",
            "text/plain": [
              "<Figure size 432x288 with 2 Axes>"
            ]
          },
          "metadata": {
            "tags": [],
            "needs_background": "light"
          }
        },
        {
          "output_type": "stream",
          "text": [
            "input = elle est trop petit .\n",
            "output = she s too loud . <EOS>\n"
          ],
          "name": "stdout"
        },
        {
          "output_type": "display_data",
          "data": {
            "image/png": "[encoded data removed]",
            "text/plain": [
              "<Figure size 432x288 with 2 Axes>"
            ]
          },
          "metadata": {
            "tags": [],
            "needs_background": "light"
          }
        },
        {
          "output_type": "stream",
          "text": [
            "input = je ne crains pas de mourir .\n",
            "output = i m not scared to die . <EOS>\n"
          ],
          "name": "stdout"
        },
        {
          "output_type": "display_data",
          "data": {
            "image/png": "[encoded data removed]",
            "text/plain": [
              "<Figure size 432x288 with 2 Axes>"
            ]
          },
          "metadata": {
            "tags": [],
            "needs_background": "light"
          }
        },
        {
          "output_type": "stream",
          "text": [
            "input = c est un jeune directeur plein de talent .\n",
            "output = he s a talented young young . <EOS>\n"
          ],
          "name": "stdout"
        },
        {
          "output_type": "display_data",
          "data": {
            "image/png": "[encoded data removed]",
            "text/plain": [
              "<Figure size 432x288 with 2 Axes>"
            ]
          },
          "metadata": {
            "tags": [],
            "needs_background": "light"
          }
        }
      ]
    }
  ]
}