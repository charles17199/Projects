{
  "nbformat": 4,
  "nbformat_minor": 0,
  "metadata": {
    "colab": {
      "name": "New York City Taxi Fare Prediction.ipynb",
      "provenance": [],
      "collapsed_sections": []
    },
    "kernelspec": {
      "name": "python3",
      "display_name": "Python 3"
    },
    "accelerator": "GPU"
  },
  "cells": [
    {
      "cell_type": "markdown",
      "metadata": {
        "id": "YMb9nuqGHXus",
        "colab_type": "text"
      },
      "source": [
        "**NYC Taxi Fare Prediction**"
      ]
    },
    {
      "cell_type": "markdown",
      "metadata": {
        "id": "O8uiJUa7HyB9",
        "colab_type": "text"
      },
      "source": [
        "The project is to predict the fare prices from the given data, it is an regression task. The data for project is taken from kaggle https://www.kaggle.com/c/new-york-city-taxi-fare-prediction. I have uploaded to my S3 bucket in my aws and using it directly by importing using s3fs library."
      ]
    },
    {
      "cell_type": "markdown",
      "metadata": {
        "id": "fSktUmz5IbLh",
        "colab_type": "text"
      },
      "source": [
        "Importing libraries"
      ]
    },
    {
      "cell_type": "code",
      "metadata": {
        "id": "ZlIWJO2Rmsa9",
        "colab_type": "code",
        "colab": {
          "base_uri": "https://localhost:8080/",
          "height": 71
        },
        "outputId": "bc091df3-fead-45ee-8b15-6ff25deee4cb"
      },
      "source": [
        "import pandas as pd\n",
        "import s3fs\n",
        "\n",
        "import numpy as np\n",
        "import matplotlib.pyplot as plt\n",
        "import seaborn as sns\n",
        "%matplotlib inline"
      ],
      "execution_count": null,
      "outputs": [
        {
          "output_type": "stream",
          "text": [
            "/usr/local/lib/python3.6/dist-packages/statsmodels/tools/_testing.py:19: FutureWarning: pandas.util.testing is deprecated. Use the functions in the public API at pandas.testing instead.\n",
            "  import pandas.util.testing as tm\n"
          ],
          "name": "stderr"
        }
      ]
    },
    {
      "cell_type": "code",
      "metadata": {
        "id": "uW3PwL1Xg9UF",
        "colab_type": "code",
        "colab": {}
      },
      "source": [
        "import torch\n",
        "import torch.nn as nn\n"
      ],
      "execution_count": null,
      "outputs": []
    },
    {
      "cell_type": "code",
      "metadata": {
        "id": "13BFvbVsm2b0",
        "colab_type": "code",
        "colab": {}
      },
      "source": [
        "df = pd.read_csv('s3://charles-datasets/NYCTaxiFares.csv')"
      ],
      "execution_count": null,
      "outputs": []
    },
    {
      "cell_type": "markdown",
      "metadata": {
        "id": "w2Ac8OkxIe6O",
        "colab_type": "text"
      },
      "source": [
        "Sample of data"
      ]
    },
    {
      "cell_type": "code",
      "metadata": {
        "id": "1zEU--punSkw",
        "colab_type": "code",
        "colab": {
          "base_uri": "https://localhost:8080/",
          "height": 204
        },
        "outputId": "0633141b-8ca6-4538-c816-57a83f9e91b6"
      },
      "source": [
        "df.head()"
      ],
      "execution_count": null,
      "outputs": [
        {
          "output_type": "execute_result",
          "data": {
            "text/html": [
              "<div>\n",
              "<style scoped>\n",
              "    .dataframe tbody tr th:only-of-type {\n",
              "        vertical-align: middle;\n",
              "    }\n",
              "\n",
              "    .dataframe tbody tr th {\n",
              "        vertical-align: top;\n",
              "    }\n",
              "\n",
              "    .dataframe thead th {\n",
              "        text-align: right;\n",
              "    }\n",
              "</style>\n",
              "<table border=\"1\" class=\"dataframe\">\n",
              "  <thead>\n",
              "    <tr style=\"text-align: right;\">\n",
              "      <th></th>\n",
              "      <th>pickup_datetime</th>\n",
              "      <th>fare_amount</th>\n",
              "      <th>fare_class</th>\n",
              "      <th>pickup_longitude</th>\n",
              "      <th>pickup_latitude</th>\n",
              "      <th>dropoff_longitude</th>\n",
              "      <th>dropoff_latitude</th>\n",
              "      <th>passenger_count</th>\n",
              "    </tr>\n",
              "  </thead>\n",
              "  <tbody>\n",
              "    <tr>\n",
              "      <th>0</th>\n",
              "      <td>2010-04-19 08:17:56 UTC</td>\n",
              "      <td>6.5</td>\n",
              "      <td>0</td>\n",
              "      <td>-73.992365</td>\n",
              "      <td>40.730521</td>\n",
              "      <td>-73.975499</td>\n",
              "      <td>40.744746</td>\n",
              "      <td>1</td>\n",
              "    </tr>\n",
              "    <tr>\n",
              "      <th>1</th>\n",
              "      <td>2010-04-17 15:43:53 UTC</td>\n",
              "      <td>6.9</td>\n",
              "      <td>0</td>\n",
              "      <td>-73.990078</td>\n",
              "      <td>40.740558</td>\n",
              "      <td>-73.974232</td>\n",
              "      <td>40.744114</td>\n",
              "      <td>1</td>\n",
              "    </tr>\n",
              "    <tr>\n",
              "      <th>2</th>\n",
              "      <td>2010-04-17 11:23:26 UTC</td>\n",
              "      <td>10.1</td>\n",
              "      <td>1</td>\n",
              "      <td>-73.994149</td>\n",
              "      <td>40.751118</td>\n",
              "      <td>-73.960064</td>\n",
              "      <td>40.766235</td>\n",
              "      <td>2</td>\n",
              "    </tr>\n",
              "    <tr>\n",
              "      <th>3</th>\n",
              "      <td>2010-04-11 21:25:03 UTC</td>\n",
              "      <td>8.9</td>\n",
              "      <td>0</td>\n",
              "      <td>-73.990485</td>\n",
              "      <td>40.756422</td>\n",
              "      <td>-73.971205</td>\n",
              "      <td>40.748192</td>\n",
              "      <td>1</td>\n",
              "    </tr>\n",
              "    <tr>\n",
              "      <th>4</th>\n",
              "      <td>2010-04-17 02:19:01 UTC</td>\n",
              "      <td>19.7</td>\n",
              "      <td>1</td>\n",
              "      <td>-73.990976</td>\n",
              "      <td>40.734202</td>\n",
              "      <td>-73.905956</td>\n",
              "      <td>40.743115</td>\n",
              "      <td>1</td>\n",
              "    </tr>\n",
              "  </tbody>\n",
              "</table>\n",
              "</div>"
            ],
            "text/plain": [
              "           pickup_datetime  fare_amount  ...  dropoff_latitude  passenger_count\n",
              "0  2010-04-19 08:17:56 UTC          6.5  ...         40.744746                1\n",
              "1  2010-04-17 15:43:53 UTC          6.9  ...         40.744114                1\n",
              "2  2010-04-17 11:23:26 UTC         10.1  ...         40.766235                2\n",
              "3  2010-04-11 21:25:03 UTC          8.9  ...         40.748192                1\n",
              "4  2010-04-17 02:19:01 UTC         19.7  ...         40.743115                1\n",
              "\n",
              "[5 rows x 8 columns]"
            ]
          },
          "metadata": {
            "tags": []
          },
          "execution_count": 4
        }
      ]
    },
    {
      "cell_type": "markdown",
      "metadata": {
        "id": "n9AglMxvInWz",
        "colab_type": "text"
      },
      "source": [
        "The statistics of fare amount shows the data has few outliers."
      ]
    },
    {
      "cell_type": "code",
      "metadata": {
        "id": "I69Hx7oRnmOy",
        "colab_type": "code",
        "colab": {
          "base_uri": "https://localhost:8080/",
          "height": 170
        },
        "outputId": "8fa0dc25-eda6-4c46-991e-2889473478ea"
      },
      "source": [
        "df['fare_amount'].describe()"
      ],
      "execution_count": null,
      "outputs": [
        {
          "output_type": "execute_result",
          "data": {
            "text/plain": [
              "count    120000.000000\n",
              "mean         10.040326\n",
              "std           7.500134\n",
              "min           2.500000\n",
              "25%           5.700000\n",
              "50%           7.700000\n",
              "75%          11.300000\n",
              "max          49.900000\n",
              "Name: fare_amount, dtype: float64"
            ]
          },
          "metadata": {
            "tags": []
          },
          "execution_count": 5
        }
      ]
    },
    {
      "cell_type": "markdown",
      "metadata": {
        "id": "dZRDY81fJSsT",
        "colab_type": "text"
      },
      "source": [
        "## Calculate the distance traveled\n",
        "The <a href='https://en.wikipedia.org/wiki/Haversine_formula'>haversine formula</a> calculates the distance on a sphere between two sets of GPS coordinates.<br>\n",
        "Here we assign latitude values with $\\varphi$ (phi) and longitude with $\\lambda$ (lambda).\n",
        "\n",
        "The distance formula works out to\n",
        "\n",
        "${\\displaystyle d=2r\\arcsin \\left({\\sqrt {\\sin ^{2}\\left({\\frac {\\varphi _{2}-\\varphi _{1}}{2}}\\right)+\\cos(\\varphi _{1})\\:\\cos(\\varphi _{2})\\:\\sin ^{2}\\left({\\frac {\\lambda _{2}-\\lambda _{1}}{2}}\\right)}}\\right)}$\n",
        "\n",
        "where\n",
        "\n",
        "$\\begin{split} r&: \\textrm {radius of the sphere (Earth's radius averages 6371 km)}\\\\\n",
        "\\varphi_1, \\varphi_2&: \\textrm {latitudes of point 1 and point 2}\\\\\n",
        "\\lambda_1, \\lambda_2&: \\textrm {longitudes of point 1 and point 2}\\end{split}$"
      ]
    },
    {
      "cell_type": "code",
      "metadata": {
        "id": "KoNUxM8dnwWg",
        "colab_type": "code",
        "colab": {}
      },
      "source": [
        "def haversine_distance(df, lat1, long1, lat2, long2):\n",
        "  r = 6371\n",
        "\n",
        "  phi1 = np.radians(df[lat1])\n",
        "  phi2 = np.radians(df[lat2])\n",
        "\n",
        "  delta_phi = np.radians(df[lat2]-df[lat1])\n",
        "  delta_lambda = np.radians(df[long2]-df[long1])\n",
        "\n",
        "  a = np.sin(delta_phi/2)**2 + np.cos(phi1)*np.cos(phi2)*np.sin(delta_lambda/2)**2\n",
        "  c = 2*np.arctan2(np.sqrt(a), np.sqrt(1-a))\n",
        "  d = (r*c)\n",
        "\n",
        "  return d"
      ],
      "execution_count": null,
      "outputs": []
    },
    {
      "cell_type": "code",
      "metadata": {
        "id": "gUjW1rkCo-I-",
        "colab_type": "code",
        "colab": {}
      },
      "source": [
        "df['dist_km'] = haversine_distance(df,'pickup_latitude','pickup_longitude','dropoff_latitude','dropoff_longitude')"
      ],
      "execution_count": null,
      "outputs": []
    },
    {
      "cell_type": "code",
      "metadata": {
        "id": "Q5Vf1NUHpwrU",
        "colab_type": "code",
        "colab": {
          "base_uri": "https://localhost:8080/",
          "height": 204
        },
        "outputId": "ee2c9acd-0316-4621-d619-d536c524a378"
      },
      "source": [
        "df.head()"
      ],
      "execution_count": null,
      "outputs": [
        {
          "output_type": "execute_result",
          "data": {
            "text/html": [
              "<div>\n",
              "<style scoped>\n",
              "    .dataframe tbody tr th:only-of-type {\n",
              "        vertical-align: middle;\n",
              "    }\n",
              "\n",
              "    .dataframe tbody tr th {\n",
              "        vertical-align: top;\n",
              "    }\n",
              "\n",
              "    .dataframe thead th {\n",
              "        text-align: right;\n",
              "    }\n",
              "</style>\n",
              "<table border=\"1\" class=\"dataframe\">\n",
              "  <thead>\n",
              "    <tr style=\"text-align: right;\">\n",
              "      <th></th>\n",
              "      <th>pickup_datetime</th>\n",
              "      <th>fare_amount</th>\n",
              "      <th>fare_class</th>\n",
              "      <th>pickup_longitude</th>\n",
              "      <th>pickup_latitude</th>\n",
              "      <th>dropoff_longitude</th>\n",
              "      <th>dropoff_latitude</th>\n",
              "      <th>passenger_count</th>\n",
              "      <th>dist_km</th>\n",
              "    </tr>\n",
              "  </thead>\n",
              "  <tbody>\n",
              "    <tr>\n",
              "      <th>0</th>\n",
              "      <td>2010-04-19 08:17:56 UTC</td>\n",
              "      <td>6.5</td>\n",
              "      <td>0</td>\n",
              "      <td>-73.992365</td>\n",
              "      <td>40.730521</td>\n",
              "      <td>-73.975499</td>\n",
              "      <td>40.744746</td>\n",
              "      <td>1</td>\n",
              "      <td>2.126312</td>\n",
              "    </tr>\n",
              "    <tr>\n",
              "      <th>1</th>\n",
              "      <td>2010-04-17 15:43:53 UTC</td>\n",
              "      <td>6.9</td>\n",
              "      <td>0</td>\n",
              "      <td>-73.990078</td>\n",
              "      <td>40.740558</td>\n",
              "      <td>-73.974232</td>\n",
              "      <td>40.744114</td>\n",
              "      <td>1</td>\n",
              "      <td>1.392307</td>\n",
              "    </tr>\n",
              "    <tr>\n",
              "      <th>2</th>\n",
              "      <td>2010-04-17 11:23:26 UTC</td>\n",
              "      <td>10.1</td>\n",
              "      <td>1</td>\n",
              "      <td>-73.994149</td>\n",
              "      <td>40.751118</td>\n",
              "      <td>-73.960064</td>\n",
              "      <td>40.766235</td>\n",
              "      <td>2</td>\n",
              "      <td>3.326763</td>\n",
              "    </tr>\n",
              "    <tr>\n",
              "      <th>3</th>\n",
              "      <td>2010-04-11 21:25:03 UTC</td>\n",
              "      <td>8.9</td>\n",
              "      <td>0</td>\n",
              "      <td>-73.990485</td>\n",
              "      <td>40.756422</td>\n",
              "      <td>-73.971205</td>\n",
              "      <td>40.748192</td>\n",
              "      <td>1</td>\n",
              "      <td>1.864129</td>\n",
              "    </tr>\n",
              "    <tr>\n",
              "      <th>4</th>\n",
              "      <td>2010-04-17 02:19:01 UTC</td>\n",
              "      <td>19.7</td>\n",
              "      <td>1</td>\n",
              "      <td>-73.990976</td>\n",
              "      <td>40.734202</td>\n",
              "      <td>-73.905956</td>\n",
              "      <td>40.743115</td>\n",
              "      <td>1</td>\n",
              "      <td>7.231321</td>\n",
              "    </tr>\n",
              "  </tbody>\n",
              "</table>\n",
              "</div>"
            ],
            "text/plain": [
              "           pickup_datetime  fare_amount  ...  passenger_count   dist_km\n",
              "0  2010-04-19 08:17:56 UTC          6.5  ...                1  2.126312\n",
              "1  2010-04-17 15:43:53 UTC          6.9  ...                1  1.392307\n",
              "2  2010-04-17 11:23:26 UTC         10.1  ...                2  3.326763\n",
              "3  2010-04-11 21:25:03 UTC          8.9  ...                1  1.864129\n",
              "4  2010-04-17 02:19:01 UTC         19.7  ...                1  7.231321\n",
              "\n",
              "[5 rows x 9 columns]"
            ]
          },
          "metadata": {
            "tags": []
          },
          "execution_count": 8
        }
      ]
    },
    {
      "cell_type": "code",
      "metadata": {
        "id": "2GGIK7ctgdFN",
        "colab_type": "code",
        "colab": {
          "base_uri": "https://localhost:8080/",
          "height": 394
        },
        "outputId": "3668bd3a-90b9-4c61-c5f6-8aad497941ee"
      },
      "source": [
        "df['EDTdate'] =  pd.to_datetime(df['pickup_datetime'].str[:19]) - pd.Timedelta(hours=4)\n",
        "df['Hour'] = df['EDTdate'].dt.hour\n",
        "df['AMorPM'] = np.where(df['Hour']<12,'am','pm')\n",
        "df['Weekday'] = df['EDTdate'].dt.strftime('%a')\n",
        "df.head()\n"
      ],
      "execution_count": null,
      "outputs": [
        {
          "output_type": "execute_result",
          "data": {
            "text/html": [
              "<div>\n",
              "<style scoped>\n",
              "    .dataframe tbody tr th:only-of-type {\n",
              "        vertical-align: middle;\n",
              "    }\n",
              "\n",
              "    .dataframe tbody tr th {\n",
              "        vertical-align: top;\n",
              "    }\n",
              "\n",
              "    .dataframe thead th {\n",
              "        text-align: right;\n",
              "    }\n",
              "</style>\n",
              "<table border=\"1\" class=\"dataframe\">\n",
              "  <thead>\n",
              "    <tr style=\"text-align: right;\">\n",
              "      <th></th>\n",
              "      <th>pickup_datetime</th>\n",
              "      <th>fare_amount</th>\n",
              "      <th>fare_class</th>\n",
              "      <th>pickup_longitude</th>\n",
              "      <th>pickup_latitude</th>\n",
              "      <th>dropoff_longitude</th>\n",
              "      <th>dropoff_latitude</th>\n",
              "      <th>passenger_count</th>\n",
              "      <th>dist_km</th>\n",
              "      <th>EDTdate</th>\n",
              "      <th>Hour</th>\n",
              "      <th>AMorPM</th>\n",
              "      <th>Weekday</th>\n",
              "    </tr>\n",
              "  </thead>\n",
              "  <tbody>\n",
              "    <tr>\n",
              "      <th>0</th>\n",
              "      <td>2010-04-19 08:17:56 UTC</td>\n",
              "      <td>6.5</td>\n",
              "      <td>0</td>\n",
              "      <td>-73.992365</td>\n",
              "      <td>40.730521</td>\n",
              "      <td>-73.975499</td>\n",
              "      <td>40.744746</td>\n",
              "      <td>1</td>\n",
              "      <td>2.126312</td>\n",
              "      <td>2010-04-19 04:17:56</td>\n",
              "      <td>4</td>\n",
              "      <td>am</td>\n",
              "      <td>Mon</td>\n",
              "    </tr>\n",
              "    <tr>\n",
              "      <th>1</th>\n",
              "      <td>2010-04-17 15:43:53 UTC</td>\n",
              "      <td>6.9</td>\n",
              "      <td>0</td>\n",
              "      <td>-73.990078</td>\n",
              "      <td>40.740558</td>\n",
              "      <td>-73.974232</td>\n",
              "      <td>40.744114</td>\n",
              "      <td>1</td>\n",
              "      <td>1.392307</td>\n",
              "      <td>2010-04-17 11:43:53</td>\n",
              "      <td>11</td>\n",
              "      <td>am</td>\n",
              "      <td>Sat</td>\n",
              "    </tr>\n",
              "    <tr>\n",
              "      <th>2</th>\n",
              "      <td>2010-04-17 11:23:26 UTC</td>\n",
              "      <td>10.1</td>\n",
              "      <td>1</td>\n",
              "      <td>-73.994149</td>\n",
              "      <td>40.751118</td>\n",
              "      <td>-73.960064</td>\n",
              "      <td>40.766235</td>\n",
              "      <td>2</td>\n",
              "      <td>3.326763</td>\n",
              "      <td>2010-04-17 07:23:26</td>\n",
              "      <td>7</td>\n",
              "      <td>am</td>\n",
              "      <td>Sat</td>\n",
              "    </tr>\n",
              "    <tr>\n",
              "      <th>3</th>\n",
              "      <td>2010-04-11 21:25:03 UTC</td>\n",
              "      <td>8.9</td>\n",
              "      <td>0</td>\n",
              "      <td>-73.990485</td>\n",
              "      <td>40.756422</td>\n",
              "      <td>-73.971205</td>\n",
              "      <td>40.748192</td>\n",
              "      <td>1</td>\n",
              "      <td>1.864129</td>\n",
              "      <td>2010-04-11 17:25:03</td>\n",
              "      <td>17</td>\n",
              "      <td>pm</td>\n",
              "      <td>Sun</td>\n",
              "    </tr>\n",
              "    <tr>\n",
              "      <th>4</th>\n",
              "      <td>2010-04-17 02:19:01 UTC</td>\n",
              "      <td>19.7</td>\n",
              "      <td>1</td>\n",
              "      <td>-73.990976</td>\n",
              "      <td>40.734202</td>\n",
              "      <td>-73.905956</td>\n",
              "      <td>40.743115</td>\n",
              "      <td>1</td>\n",
              "      <td>7.231321</td>\n",
              "      <td>2010-04-16 22:19:01</td>\n",
              "      <td>22</td>\n",
              "      <td>pm</td>\n",
              "      <td>Fri</td>\n",
              "    </tr>\n",
              "  </tbody>\n",
              "</table>\n",
              "</div>"
            ],
            "text/plain": [
              "           pickup_datetime  fare_amount  fare_class  ...  Hour  AMorPM  Weekday\n",
              "0  2010-04-19 08:17:56 UTC          6.5           0  ...     4      am      Mon\n",
              "1  2010-04-17 15:43:53 UTC          6.9           0  ...    11      am      Sat\n",
              "2  2010-04-17 11:23:26 UTC         10.1           1  ...     7      am      Sat\n",
              "3  2010-04-11 21:25:03 UTC          8.9           0  ...    17      pm      Sun\n",
              "4  2010-04-17 02:19:01 UTC         19.7           1  ...    22      pm      Fri\n",
              "\n",
              "[5 rows x 13 columns]"
            ]
          },
          "metadata": {
            "tags": []
          },
          "execution_count": 9
        }
      ]
    },
    {
      "cell_type": "code",
      "metadata": {
        "id": "uGr4OC8Whdm2",
        "colab_type": "code",
        "colab": {
          "base_uri": "https://localhost:8080/",
          "height": 34
        },
        "outputId": "8382cca6-c52a-42e1-d58d-ba665e3fdb96"
      },
      "source": [
        "df['EDTdate'].min()"
      ],
      "execution_count": null,
      "outputs": [
        {
          "output_type": "execute_result",
          "data": {
            "text/plain": [
              "Timestamp('2010-04-11 00:00:10')"
            ]
          },
          "metadata": {
            "tags": []
          },
          "execution_count": 10
        }
      ]
    },
    {
      "cell_type": "code",
      "metadata": {
        "id": "GE59Bw3ChjEh",
        "colab_type": "code",
        "colab": {
          "base_uri": "https://localhost:8080/",
          "height": 34
        },
        "outputId": "8cad8149-3879-4d84-956e-f6008839cbf6"
      },
      "source": [
        "df['EDTdate'].max()"
      ],
      "execution_count": null,
      "outputs": [
        {
          "output_type": "execute_result",
          "data": {
            "text/plain": [
              "Timestamp('2010-04-24 23:59:42')"
            ]
          },
          "metadata": {
            "tags": []
          },
          "execution_count": 11
        }
      ]
    },
    {
      "cell_type": "code",
      "metadata": {
        "id": "x415lhe_hoEr",
        "colab_type": "code",
        "colab": {
          "base_uri": "https://localhost:8080/",
          "height": 85
        },
        "outputId": "083507b8-97e9-4fc7-b420-7d95883e715e"
      },
      "source": [
        "df.columns"
      ],
      "execution_count": null,
      "outputs": [
        {
          "output_type": "execute_result",
          "data": {
            "text/plain": [
              "Index(['pickup_datetime', 'fare_amount', 'fare_class', 'pickup_longitude',\n",
              "       'pickup_latitude', 'dropoff_longitude', 'dropoff_latitude',\n",
              "       'passenger_count', 'dist_km', 'EDTdate', 'Hour', 'AMorPM', 'Weekday'],\n",
              "      dtype='object')"
            ]
          },
          "metadata": {
            "tags": []
          },
          "execution_count": 12
        }
      ]
    },
    {
      "cell_type": "code",
      "metadata": {
        "id": "1GFLgzmihqwT",
        "colab_type": "code",
        "colab": {}
      },
      "source": [
        "cat_cols= ['Hour','AMorPM','Weekday']\n",
        "cont_cols = ['pickup_latitude','dropoff_longitude', 'dropoff_latitude','pickup_longitude','passenger_count', 'dist_km']\n",
        "y = ['fare_amount']"
      ],
      "execution_count": null,
      "outputs": []
    },
    {
      "cell_type": "code",
      "metadata": {
        "id": "0Dy-M3aiiGXQ",
        "colab_type": "code",
        "colab": {}
      },
      "source": [
        "for cat in cat_cols:\n",
        "  df[cat] = df[cat].astype('category')"
      ],
      "execution_count": null,
      "outputs": []
    },
    {
      "cell_type": "code",
      "metadata": {
        "id": "74iThClCiT-s",
        "colab_type": "code",
        "colab": {
          "base_uri": "https://localhost:8080/",
          "height": 255
        },
        "outputId": "6f77a048-ab39-4476-9346-f47d454bddfd"
      },
      "source": [
        "df.dtypes"
      ],
      "execution_count": null,
      "outputs": [
        {
          "output_type": "execute_result",
          "data": {
            "text/plain": [
              "pickup_datetime              object\n",
              "fare_amount                 float64\n",
              "fare_class                    int64\n",
              "pickup_longitude            float64\n",
              "pickup_latitude             float64\n",
              "dropoff_longitude           float64\n",
              "dropoff_latitude            float64\n",
              "passenger_count               int64\n",
              "dist_km                     float64\n",
              "EDTdate              datetime64[ns]\n",
              "Hour                       category\n",
              "AMorPM                     category\n",
              "Weekday                    category\n",
              "dtype: object"
            ]
          },
          "metadata": {
            "tags": []
          },
          "execution_count": 15
        }
      ]
    },
    {
      "cell_type": "code",
      "metadata": {
        "id": "QVHw96AbigzP",
        "colab_type": "code",
        "colab": {
          "base_uri": "https://localhost:8080/",
          "height": 136
        },
        "outputId": "b35a2668-978f-4a04-afc0-e23cd60ff626"
      },
      "source": [
        "df['Hour'].head()"
      ],
      "execution_count": null,
      "outputs": [
        {
          "output_type": "execute_result",
          "data": {
            "text/plain": [
              "0     4\n",
              "1    11\n",
              "2     7\n",
              "3    17\n",
              "4    22\n",
              "Name: Hour, dtype: category\n",
              "Categories (24, int64): [0, 1, 2, 3, ..., 20, 21, 22, 23]"
            ]
          },
          "metadata": {
            "tags": []
          },
          "execution_count": 16
        }
      ]
    },
    {
      "cell_type": "code",
      "metadata": {
        "id": "mIJA7pSDikwp",
        "colab_type": "code",
        "colab": {
          "base_uri": "https://localhost:8080/",
          "height": 136
        },
        "outputId": "4b72fdc6-4fbf-4bad-b1ce-e4ece3e859ed"
      },
      "source": [
        "df['AMorPM'].head()"
      ],
      "execution_count": null,
      "outputs": [
        {
          "output_type": "execute_result",
          "data": {
            "text/plain": [
              "0    am\n",
              "1    am\n",
              "2    am\n",
              "3    pm\n",
              "4    pm\n",
              "Name: AMorPM, dtype: category\n",
              "Categories (2, object): [am, pm]"
            ]
          },
          "metadata": {
            "tags": []
          },
          "execution_count": 17
        }
      ]
    },
    {
      "cell_type": "code",
      "metadata": {
        "id": "Z1eqBiLaipHg",
        "colab_type": "code",
        "colab": {
          "base_uri": "https://localhost:8080/",
          "height": 34
        },
        "outputId": "4a8f3c66-e628-4a7c-cca0-4808a85077e7"
      },
      "source": [
        "df['AMorPM'].cat.categories"
      ],
      "execution_count": null,
      "outputs": [
        {
          "output_type": "execute_result",
          "data": {
            "text/plain": [
              "Index(['am', 'pm'], dtype='object')"
            ]
          },
          "metadata": {
            "tags": []
          },
          "execution_count": 18
        }
      ]
    },
    {
      "cell_type": "code",
      "metadata": {
        "id": "yj9l25Ziivoq",
        "colab_type": "code",
        "colab": {
          "base_uri": "https://localhost:8080/",
          "height": 119
        },
        "outputId": "5eaef838-211b-4f86-bd6f-bbf87cc93062"
      },
      "source": [
        "df['AMorPM'].head().cat.codes"
      ],
      "execution_count": null,
      "outputs": [
        {
          "output_type": "execute_result",
          "data": {
            "text/plain": [
              "0    0\n",
              "1    0\n",
              "2    0\n",
              "3    1\n",
              "4    1\n",
              "dtype: int8"
            ]
          },
          "metadata": {
            "tags": []
          },
          "execution_count": 19
        }
      ]
    },
    {
      "cell_type": "code",
      "metadata": {
        "id": "OTIlsvMQi63x",
        "colab_type": "code",
        "colab": {
          "base_uri": "https://localhost:8080/",
          "height": 34
        },
        "outputId": "4b9f867b-4f69-4d27-8fac-6475e7d16c98"
      },
      "source": [
        "df['Weekday'].cat.categories"
      ],
      "execution_count": null,
      "outputs": [
        {
          "output_type": "execute_result",
          "data": {
            "text/plain": [
              "Index(['Fri', 'Mon', 'Sat', 'Sun', 'Thu', 'Tue', 'Wed'], dtype='object')"
            ]
          },
          "metadata": {
            "tags": []
          },
          "execution_count": 20
        }
      ]
    },
    {
      "cell_type": "code",
      "metadata": {
        "id": "rmNJNIKvi_EN",
        "colab_type": "code",
        "colab": {
          "base_uri": "https://localhost:8080/",
          "height": 119
        },
        "outputId": "da932f63-32f5-40d3-d14d-757dff4f4fe2"
      },
      "source": [
        "df['Weekday'].head().cat.codes"
      ],
      "execution_count": null,
      "outputs": [
        {
          "output_type": "execute_result",
          "data": {
            "text/plain": [
              "0    1\n",
              "1    2\n",
              "2    2\n",
              "3    3\n",
              "4    0\n",
              "dtype: int8"
            ]
          },
          "metadata": {
            "tags": []
          },
          "execution_count": 21
        }
      ]
    },
    {
      "cell_type": "code",
      "metadata": {
        "id": "ECeuquZOjDNG",
        "colab_type": "code",
        "colab": {}
      },
      "source": [
        "hr = df['Hour'].cat.codes.values\n",
        "ampm = df['AMorPM'].cat.codes.values\n",
        "wkdy = df['Weekday'].cat.codes.values\n",
        "\n",
        "cats = np.stack([hr, ampm, wkdy], axis=1)"
      ],
      "execution_count": null,
      "outputs": []
    },
    {
      "cell_type": "code",
      "metadata": {
        "id": "0flh8ZpnjfC-",
        "colab_type": "code",
        "colab": {
          "base_uri": "https://localhost:8080/",
          "height": 102
        },
        "outputId": "b7d0178c-4461-42c7-feb7-be4323ee27a4"
      },
      "source": [
        "cats[:5]"
      ],
      "execution_count": null,
      "outputs": [
        {
          "output_type": "execute_result",
          "data": {
            "text/plain": [
              "array([[ 4,  0,  1],\n",
              "       [11,  0,  2],\n",
              "       [ 7,  0,  2],\n",
              "       [17,  1,  3],\n",
              "       [22,  1,  0]], dtype=int8)"
            ]
          },
          "metadata": {
            "tags": []
          },
          "execution_count": 23
        }
      ]
    },
    {
      "cell_type": "code",
      "metadata": {
        "id": "blvOusjojoWc",
        "colab_type": "code",
        "colab": {}
      },
      "source": [
        "cats = np.stack([df[c].cat.codes.values for c in cat_cols], axis=1)"
      ],
      "execution_count": null,
      "outputs": []
    },
    {
      "cell_type": "code",
      "metadata": {
        "id": "kdM1EnjykEGg",
        "colab_type": "code",
        "colab": {
          "base_uri": "https://localhost:8080/",
          "height": 102
        },
        "outputId": "ce7daa8a-a6f0-40f5-afbb-15f292b2d45c"
      },
      "source": [
        "cats[:5]"
      ],
      "execution_count": null,
      "outputs": [
        {
          "output_type": "execute_result",
          "data": {
            "text/plain": [
              "array([[ 4,  0,  1],\n",
              "       [11,  0,  2],\n",
              "       [ 7,  0,  2],\n",
              "       [17,  1,  3],\n",
              "       [22,  1,  0]], dtype=int8)"
            ]
          },
          "metadata": {
            "tags": []
          },
          "execution_count": 25
        }
      ]
    },
    {
      "cell_type": "code",
      "metadata": {
        "id": "m7W38e_ujlKY",
        "colab_type": "code",
        "colab": {
          "base_uri": "https://localhost:8080/",
          "height": 102
        },
        "outputId": "c15de889-7e9d-4e89-df28-1a939c8c768d"
      },
      "source": [
        "cats = torch.tensor(cats, dtype=torch.int64)\n",
        "\n",
        "cats[:5]"
      ],
      "execution_count": null,
      "outputs": [
        {
          "output_type": "execute_result",
          "data": {
            "text/plain": [
              "tensor([[ 4,  0,  1],\n",
              "        [11,  0,  2],\n",
              "        [ 7,  0,  2],\n",
              "        [17,  1,  3],\n",
              "        [22,  1,  0]])"
            ]
          },
          "metadata": {
            "tags": []
          },
          "execution_count": 26
        }
      ]
    },
    {
      "cell_type": "code",
      "metadata": {
        "id": "OxmGSMVbkRAE",
        "colab_type": "code",
        "colab": {
          "base_uri": "https://localhost:8080/",
          "height": 102
        },
        "outputId": "b12042de-e6c2-4b1a-e3f1-2381630b81ec"
      },
      "source": [
        "conts = np.stack([df[c].values for c in cont_cols], axis=1)\n",
        "conts = torch.tensor(conts, dtype=torch.float)\n",
        "conts[:5] "
      ],
      "execution_count": null,
      "outputs": [
        {
          "output_type": "execute_result",
          "data": {
            "text/plain": [
              "tensor([[ 40.7305, -73.9755,  40.7447, -73.9924,   1.0000,   2.1263],\n",
              "        [ 40.7406, -73.9742,  40.7441, -73.9901,   1.0000,   1.3923],\n",
              "        [ 40.7511, -73.9601,  40.7662, -73.9941,   2.0000,   3.3268],\n",
              "        [ 40.7564, -73.9712,  40.7482, -73.9905,   1.0000,   1.8641],\n",
              "        [ 40.7342, -73.9060,  40.7431, -73.9910,   1.0000,   7.2313]])"
            ]
          },
          "metadata": {
            "tags": []
          },
          "execution_count": 27
        }
      ]
    },
    {
      "cell_type": "code",
      "metadata": {
        "id": "zkiwkWK8kpMv",
        "colab_type": "code",
        "colab": {
          "base_uri": "https://localhost:8080/",
          "height": 35
        },
        "outputId": "036806d8-2159-4cca-a1bd-f3a6070b4e87"
      },
      "source": [
        "conts.type()"
      ],
      "execution_count": null,
      "outputs": [
        {
          "output_type": "execute_result",
          "data": {
            "application/vnd.google.colaboratory.intrinsic+json": {
              "type": "string"
            },
            "text/plain": [
              "'torch.FloatTensor'"
            ]
          },
          "metadata": {
            "tags": []
          },
          "execution_count": 28
        }
      ]
    },
    {
      "cell_type": "code",
      "metadata": {
        "id": "ljx4HGBEkrRz",
        "colab_type": "code",
        "colab": {}
      },
      "source": [
        "y = torch.tensor(df[y].values, dtype=torch.float).reshape(-1,1)"
      ],
      "execution_count": null,
      "outputs": []
    },
    {
      "cell_type": "code",
      "metadata": {
        "id": "gJYFDTUllMAs",
        "colab_type": "code",
        "colab": {
          "base_uri": "https://localhost:8080/",
          "height": 102
        },
        "outputId": "738242fe-d474-4cfb-ccfd-8e61085b206d"
      },
      "source": [
        "y[:5]"
      ],
      "execution_count": null,
      "outputs": [
        {
          "output_type": "execute_result",
          "data": {
            "text/plain": [
              "tensor([[ 6.5000],\n",
              "        [ 6.9000],\n",
              "        [10.1000],\n",
              "        [ 8.9000],\n",
              "        [19.7000]])"
            ]
          },
          "metadata": {
            "tags": []
          },
          "execution_count": 54
        }
      ]
    },
    {
      "cell_type": "code",
      "metadata": {
        "id": "l5kpP-6alRgZ",
        "colab_type": "code",
        "colab": {
          "base_uri": "https://localhost:8080/",
          "height": 34
        },
        "outputId": "0cc02ac6-f6a4-49ac-ae30-d735ba562e6f"
      },
      "source": [
        "cats.shape"
      ],
      "execution_count": null,
      "outputs": [
        {
          "output_type": "execute_result",
          "data": {
            "text/plain": [
              "torch.Size([120000, 3])"
            ]
          },
          "metadata": {
            "tags": []
          },
          "execution_count": 30
        }
      ]
    },
    {
      "cell_type": "code",
      "metadata": {
        "id": "3ntGXDg5lS5h",
        "colab_type": "code",
        "colab": {
          "base_uri": "https://localhost:8080/",
          "height": 34
        },
        "outputId": "9de3e210-d306-40e7-aadc-21e01445d8fd"
      },
      "source": [
        "conts.shape"
      ],
      "execution_count": null,
      "outputs": [
        {
          "output_type": "execute_result",
          "data": {
            "text/plain": [
              "torch.Size([120000, 6])"
            ]
          },
          "metadata": {
            "tags": []
          },
          "execution_count": 31
        }
      ]
    },
    {
      "cell_type": "code",
      "metadata": {
        "id": "blva13qFlZ-h",
        "colab_type": "code",
        "colab": {
          "base_uri": "https://localhost:8080/",
          "height": 34
        },
        "outputId": "f52cfa28-2805-4e7f-f4a0-64f42b44d5f3"
      },
      "source": [
        "cat_szs = [len(df[col].cat.categories) for col in cat_cols]\n",
        "emb_szs = [(size, min(50, (size+1)//2)) for size in cat_szs]\n",
        "emb_szs"
      ],
      "execution_count": null,
      "outputs": [
        {
          "output_type": "execute_result",
          "data": {
            "text/plain": [
              "[(24, 12), (2, 1), (7, 4)]"
            ]
          },
          "metadata": {
            "tags": []
          },
          "execution_count": 35
        }
      ]
    },
    {
      "cell_type": "code",
      "metadata": {
        "id": "1XocgquRl-2u",
        "colab_type": "code",
        "colab": {
          "base_uri": "https://localhost:8080/",
          "height": 85
        },
        "outputId": "9f69bc84-ba75-48cb-eab9-3de0dd6fb992"
      },
      "source": [
        "catz = cats[:4]\n",
        "catz"
      ],
      "execution_count": null,
      "outputs": [
        {
          "output_type": "execute_result",
          "data": {
            "text/plain": [
              "tensor([[ 4,  0,  1],\n",
              "        [11,  0,  2],\n",
              "        [ 7,  0,  2],\n",
              "        [17,  1,  3]])"
            ]
          },
          "metadata": {
            "tags": []
          },
          "execution_count": 36
        }
      ]
    },
    {
      "cell_type": "code",
      "metadata": {
        "id": "Xh7z3inVvryS",
        "colab_type": "code",
        "colab": {
          "base_uri": "https://localhost:8080/",
          "height": 34
        },
        "outputId": "d9e9f505-ac6a-42db-de5e-269840a53242"
      },
      "source": [
        "emb_szs"
      ],
      "execution_count": null,
      "outputs": [
        {
          "output_type": "execute_result",
          "data": {
            "text/plain": [
              "[(24, 12), (2, 1), (7, 4)]"
            ]
          },
          "metadata": {
            "tags": []
          },
          "execution_count": 37
        }
      ]
    },
    {
      "cell_type": "markdown",
      "metadata": {
        "id": "KSwO-6nJK7Ff",
        "colab_type": "text"
      },
      "source": [
        "Embedding Categorical columns"
      ]
    },
    {
      "cell_type": "code",
      "metadata": {
        "id": "XsT-joZ6vus8",
        "colab_type": "code",
        "colab": {
          "base_uri": "https://localhost:8080/",
          "height": 102
        },
        "outputId": "393d0fa4-97bf-4dda-fb9d-cc91792285fc"
      },
      "source": [
        "selfembeds = nn.ModuleList([nn.Embedding(ni,nf) for ni,nf in emb_szs])\n",
        "selfembeds"
      ],
      "execution_count": null,
      "outputs": [
        {
          "output_type": "execute_result",
          "data": {
            "text/plain": [
              "ModuleList(\n",
              "  (0): Embedding(24, 12)\n",
              "  (1): Embedding(2, 1)\n",
              "  (2): Embedding(7, 4)\n",
              ")"
            ]
          },
          "metadata": {
            "tags": []
          },
          "execution_count": 38
        }
      ]
    },
    {
      "cell_type": "code",
      "metadata": {
        "id": "pdvh_0xrv95x",
        "colab_type": "code",
        "colab": {
          "base_uri": "https://localhost:8080/",
          "height": 34
        },
        "outputId": "817601a3-70f0-4701-9106-dc64f09aa956"
      },
      "source": [
        "list(enumerate(selfembeds))"
      ],
      "execution_count": null,
      "outputs": [
        {
          "output_type": "execute_result",
          "data": {
            "text/plain": [
              "[(0, Embedding(24, 12)), (1, Embedding(2, 1)), (2, Embedding(7, 4))]"
            ]
          },
          "metadata": {
            "tags": []
          },
          "execution_count": 39
        }
      ]
    },
    {
      "cell_type": "code",
      "metadata": {
        "id": "jOrDZ1jewFJV",
        "colab_type": "code",
        "colab": {
          "base_uri": "https://localhost:8080/",
          "height": 289
        },
        "outputId": "891ff212-1b52-448c-cecf-404cab85f889"
      },
      "source": [
        "embeddingz = []\n",
        "\n",
        "for i,e in enumerate(selfembeds):\n",
        "  embeddingz.append(e(catz[:,i]))\n",
        "\n",
        "embeddingz"
      ],
      "execution_count": null,
      "outputs": [
        {
          "output_type": "execute_result",
          "data": {
            "text/plain": [
              "[tensor([[ 1.0925,  0.7775,  0.2441, -0.3668,  0.0809,  1.2575, -1.0112, -1.1429,\n",
              "          -0.7283, -0.9663,  1.1655, -0.7087],\n",
              "         [ 1.1062, -1.0538, -0.2274, -0.5530,  0.0581,  0.6262, -1.1400,  0.1386,\n",
              "           1.4490, -0.0892, -2.0983, -0.6256],\n",
              "         [-0.6088,  0.6783, -0.5684, -0.3507,  0.7628,  1.1573,  0.2341,  0.8651,\n",
              "           0.2732,  0.9121, -0.2044, -0.8776],\n",
              "         [-0.9695,  1.0312, -0.7469, -0.5363,  1.7617, -1.3574, -0.1783,  0.9281,\n",
              "           1.3052,  0.6879, -1.7658,  0.3739]], grad_fn=<EmbeddingBackward>),\n",
              " tensor([[ 1.8734],\n",
              "         [ 1.8734],\n",
              "         [ 1.8734],\n",
              "         [-0.2717]], grad_fn=<EmbeddingBackward>),\n",
              " tensor([[ 0.0407, -0.1090, -0.5832, -0.0179],\n",
              "         [ 0.6572,  1.3488,  0.3741,  0.1904],\n",
              "         [ 0.6572,  1.3488,  0.3741,  0.1904],\n",
              "         [ 0.3311,  1.7411, -2.0733,  0.0214]], grad_fn=<EmbeddingBackward>)]"
            ]
          },
          "metadata": {
            "tags": []
          },
          "execution_count": 40
        }
      ]
    },
    {
      "cell_type": "code",
      "metadata": {
        "id": "wVrjjXV8w4wX",
        "colab_type": "code",
        "colab": {
          "base_uri": "https://localhost:8080/",
          "height": 221
        },
        "outputId": "53548a78-30fe-43fe-d84e-9558bbe68857"
      },
      "source": [
        "z = torch.cat(embeddingz, 1)\n",
        "z"
      ],
      "execution_count": null,
      "outputs": [
        {
          "output_type": "execute_result",
          "data": {
            "text/plain": [
              "tensor([[ 1.0925,  0.7775,  0.2441, -0.3668,  0.0809,  1.2575, -1.0112, -1.1429,\n",
              "         -0.7283, -0.9663,  1.1655, -0.7087,  1.8734,  0.0407, -0.1090, -0.5832,\n",
              "         -0.0179],\n",
              "        [ 1.1062, -1.0538, -0.2274, -0.5530,  0.0581,  0.6262, -1.1400,  0.1386,\n",
              "          1.4490, -0.0892, -2.0983, -0.6256,  1.8734,  0.6572,  1.3488,  0.3741,\n",
              "          0.1904],\n",
              "        [-0.6088,  0.6783, -0.5684, -0.3507,  0.7628,  1.1573,  0.2341,  0.8651,\n",
              "          0.2732,  0.9121, -0.2044, -0.8776,  1.8734,  0.6572,  1.3488,  0.3741,\n",
              "          0.1904],\n",
              "        [-0.9695,  1.0312, -0.7469, -0.5363,  1.7617, -1.3574, -0.1783,  0.9281,\n",
              "          1.3052,  0.6879, -1.7658,  0.3739, -0.2717,  0.3311,  1.7411, -2.0733,\n",
              "          0.0214]], grad_fn=<CatBackward>)"
            ]
          },
          "metadata": {
            "tags": []
          },
          "execution_count": 41
        }
      ]
    },
    {
      "cell_type": "code",
      "metadata": {
        "id": "I2f7srY1w4j_",
        "colab_type": "code",
        "colab": {}
      },
      "source": [
        "selfemdrop = nn.Dropout(.4)"
      ],
      "execution_count": null,
      "outputs": []
    },
    {
      "cell_type": "code",
      "metadata": {
        "id": "itRw4MTPxQgP",
        "colab_type": "code",
        "colab": {
          "base_uri": "https://localhost:8080/",
          "height": 221
        },
        "outputId": "048f5958-61df-4063-ba76-a9529759abd2"
      },
      "source": [
        "z = selfemdrop(z)\n",
        "z"
      ],
      "execution_count": null,
      "outputs": [
        {
          "output_type": "execute_result",
          "data": {
            "text/plain": [
              "tensor([[ 1.8209,  0.0000,  0.4069, -0.0000,  0.1348,  2.0959, -1.6853, -1.9048,\n",
              "         -1.2138, -1.6105,  0.0000, -0.0000,  3.1224,  0.0678, -0.1816, -0.0000,\n",
              "         -0.0298],\n",
              "        [ 1.8436, -1.7564, -0.3790, -0.0000,  0.0968,  1.0436, -1.9000,  0.2310,\n",
              "          0.0000, -0.1487, -0.0000, -0.0000,  0.0000,  0.0000,  2.2479,  0.6236,\n",
              "          0.0000],\n",
              "        [-0.0000,  0.0000, -0.0000, -0.5845,  1.2713,  0.0000,  0.0000,  1.4418,\n",
              "          0.0000,  0.0000, -0.3407, -1.4627,  3.1224,  1.0954,  0.0000,  0.6236,\n",
              "          0.3174],\n",
              "        [-0.0000,  1.7186, -0.0000, -0.0000,  2.9362, -0.0000, -0.2972,  1.5469,\n",
              "          2.1754,  0.0000, -2.9430,  0.6232, -0.0000,  0.5519,  0.0000, -3.4555,\n",
              "          0.0000]], grad_fn=<MulBackward0>)"
            ]
          },
          "metadata": {
            "tags": []
          },
          "execution_count": 43
        }
      ]
    },
    {
      "cell_type": "markdown",
      "metadata": {
        "id": "RIr80dRiKOBK",
        "colab_type": "text"
      },
      "source": [
        "Building a Regression Model"
      ]
    },
    {
      "cell_type": "code",
      "metadata": {
        "id": "EFCoipIFxVAZ",
        "colab_type": "code",
        "colab": {}
      },
      "source": [
        "class TabularModel(nn.Module):\n",
        "  def __init__(self, emb_szs, n_cont, out_sz, layers, p=0.5):\n",
        "    \n",
        "    super().__init__()\n",
        "    self.embeds = nn.ModuleList([nn.Embedding(ni, nf) for ni, nf in emb_szs])\n",
        "    self.emb_drop = nn.Dropout(p)\n",
        "    self.bn_cont = nn.BatchNorm1d(n_cont)\n",
        "\n",
        "    layerlist = []\n",
        "    n_emb = sum(nf for ni,nf in emb_szs)\n",
        "    n_in = n_emb + n_cont\n",
        "\n",
        "    for i in layers:\n",
        "      layerlist.append(nn.Linear(n_in, i))\n",
        "      layerlist.append(nn.ReLU(inplace=True))\n",
        "      layerlist.append(nn.BatchNorm1d(i))\n",
        "      layerlist.append(nn.Dropout(p))\n",
        "      n_in = i\n",
        "\n",
        "    layerlist.append(nn.Linear(layers[-1], out_sz))\n",
        "\n",
        "    self.layers = nn.Sequential(*layerlist)\n",
        "\n",
        "  def forward(self, x_cat, x_cont):\n",
        "    embeddings = []\n",
        "    for i,e in enumerate(self.embeds):\n",
        "      embeddings.append(e(x_cat[:,i]))\n",
        "\n",
        "    x = torch.cat(embeddings, axis=1)\n",
        "    x = self.emb_drop(x)\n",
        "\n",
        "    x_cont = self.bn_cont(x_cont)\n",
        "    x = torch.cat([x, x_cont], axis=1)\n",
        "    x = self.layers(x)\n",
        "\n",
        "    return x\n"
      ],
      "execution_count": null,
      "outputs": []
    },
    {
      "cell_type": "code",
      "metadata": {
        "id": "zybHGIXV2k6w",
        "colab_type": "code",
        "colab": {}
      },
      "source": [
        "torch.manual_seed(33)\n",
        "model = TabularModel(emb_szs, conts.shape[1], 1, [200,100], p=0.4)"
      ],
      "execution_count": null,
      "outputs": []
    },
    {
      "cell_type": "code",
      "metadata": {
        "id": "4-8lXJuA99OZ",
        "colab_type": "code",
        "colab": {
          "base_uri": "https://localhost:8080/",
          "height": 357
        },
        "outputId": "8068d2c4-ad18-4fea-d16d-4d094d1e8ab5"
      },
      "source": [
        "model"
      ],
      "execution_count": null,
      "outputs": [
        {
          "output_type": "execute_result",
          "data": {
            "text/plain": [
              "TabularModel(\n",
              "  (embeds): ModuleList(\n",
              "    (0): Embedding(24, 12)\n",
              "    (1): Embedding(2, 1)\n",
              "    (2): Embedding(7, 4)\n",
              "  )\n",
              "  (emb_drop): Dropout(p=0.4, inplace=False)\n",
              "  (bn_cont): BatchNorm1d(6, eps=1e-05, momentum=0.1, affine=True, track_running_stats=True)\n",
              "  (layers): Sequential(\n",
              "    (0): Linear(in_features=23, out_features=200, bias=True)\n",
              "    (1): ReLU(inplace=True)\n",
              "    (2): BatchNorm1d(200, eps=1e-05, momentum=0.1, affine=True, track_running_stats=True)\n",
              "    (3): Dropout(p=0.4, inplace=False)\n",
              "    (4): Linear(in_features=200, out_features=100, bias=True)\n",
              "    (5): ReLU(inplace=True)\n",
              "    (6): BatchNorm1d(100, eps=1e-05, momentum=0.1, affine=True, track_running_stats=True)\n",
              "    (7): Dropout(p=0.4, inplace=False)\n",
              "    (8): Linear(in_features=100, out_features=1, bias=True)\n",
              "  )\n",
              ")"
            ]
          },
          "metadata": {
            "tags": []
          },
          "execution_count": 46
        }
      ]
    },
    {
      "cell_type": "markdown",
      "metadata": {
        "id": "NB6nmrNcLBuK",
        "colab_type": "text"
      },
      "source": [
        "Loss Function"
      ]
    },
    {
      "cell_type": "code",
      "metadata": {
        "id": "zQ_4xNIP-Q_C",
        "colab_type": "code",
        "colab": {}
      },
      "source": [
        "criterion = nn.MSELoss()\n",
        "optimizer = torch.optim.Adam(model.parameters(), lr=0.001)"
      ],
      "execution_count": null,
      "outputs": []
    },
    {
      "cell_type": "markdown",
      "metadata": {
        "id": "qFcZCGg3LDoY",
        "colab_type": "text"
      },
      "source": [
        "Spliting the data"
      ]
    },
    {
      "cell_type": "code",
      "metadata": {
        "id": "jC5n7XIH-cg6",
        "colab_type": "code",
        "colab": {}
      },
      "source": [
        "batch_size = 60000\n",
        "test_size = int(batch_size * .2)\n",
        "\n",
        "cat_train = cats[:batch_size-test_size]\n",
        "cat_test = cats[batch_size-test_size:batch_size]\n",
        "cont_train = conts[:batch_size-test_size]\n",
        "cont_test = conts[batch_size-test_size:batch_size]\n",
        "\n",
        "y_train = y[:batch_size-test_size]\n",
        "y_test = y[batch_size-test_size:batch_size]"
      ],
      "execution_count": null,
      "outputs": []
    },
    {
      "cell_type": "code",
      "metadata": {
        "id": "hbqm0WBg_V79",
        "colab_type": "code",
        "colab": {
          "base_uri": "https://localhost:8080/",
          "height": 34
        },
        "outputId": "b667d2c5-9543-47cf-9f6f-9ada082fcf24"
      },
      "source": [
        "len(cat_train)"
      ],
      "execution_count": null,
      "outputs": [
        {
          "output_type": "execute_result",
          "data": {
            "text/plain": [
              "48000"
            ]
          },
          "metadata": {
            "tags": []
          },
          "execution_count": 49
        }
      ]
    },
    {
      "cell_type": "code",
      "metadata": {
        "id": "z7X_CEOO_aAj",
        "colab_type": "code",
        "colab": {
          "base_uri": "https://localhost:8080/",
          "height": 34
        },
        "outputId": "9cb46c36-c55f-4967-e6ee-4cf323ced247"
      },
      "source": [
        "len(cat_test)"
      ],
      "execution_count": null,
      "outputs": [
        {
          "output_type": "execute_result",
          "data": {
            "text/plain": [
              "12000"
            ]
          },
          "metadata": {
            "tags": []
          },
          "execution_count": 50
        }
      ]
    },
    {
      "cell_type": "markdown",
      "metadata": {
        "id": "3pjX6wmOLHSx",
        "colab_type": "text"
      },
      "source": [
        "Training the data"
      ]
    },
    {
      "cell_type": "code",
      "metadata": {
        "id": "ASUUF0nu_fVv",
        "colab_type": "code",
        "colab": {
          "base_uri": "https://localhost:8080/",
          "height": 255
        },
        "outputId": "0e2eb1bc-a9fb-4f85-c6ec-48bd8fddc406"
      },
      "source": [
        "import time\n",
        "start_time = time.time()\n",
        "\n",
        "epochs = 300\n",
        "losses = []\n",
        "\n",
        "for i in range(epochs):\n",
        "  i+=1\n",
        "  y_pred = model(cat_train, cont_train)\n",
        "  loss = torch.sqrt(criterion(y_pred, y_train))\n",
        "  losses.append(loss)\n",
        "\n",
        "  if i%25==1:\n",
        "    print(f'epoch: {i:3} loss: {loss.item(): 10.8f}')\n",
        "\n",
        "  optimizer.zero_grad()\n",
        "  loss.backward()\n",
        "  optimizer.step()\n",
        "\n",
        "print(f'epoch: {i:3} loss: {loss.item():10.8f}')\n",
        "print(f'nDuartion: {time.time() - start_time:.0f} seconds')"
      ],
      "execution_count": null,
      "outputs": [
        {
          "output_type": "stream",
          "text": [
            "epoch:   1 loss:  12.56703854\n",
            "epoch:  26 loss:  10.90517616\n",
            "epoch:  51 loss:  10.23300171\n",
            "epoch:  76 loss:  9.74051476\n",
            "epoch: 101 loss:  9.19800663\n",
            "epoch: 126 loss:  8.43523312\n",
            "epoch: 151 loss:  7.42202473\n",
            "epoch: 176 loss:  6.25717497\n",
            "epoch: 201 loss:  5.06305361\n",
            "epoch: 226 loss:  4.21228933\n",
            "epoch: 251 loss:  3.84753275\n",
            "epoch: 276 loss:  3.75968671\n",
            "epoch: 300 loss: 3.67729902\n",
            "nDuartion: 333 seconds\n"
          ],
          "name": "stdout"
        }
      ]
    },
    {
      "cell_type": "code",
      "metadata": {
        "id": "6xvWvQ4eCKLU",
        "colab_type": "code",
        "colab": {}
      },
      "source": [
        ""
      ],
      "execution_count": null,
      "outputs": []
    },
    {
      "cell_type": "markdown",
      "metadata": {
        "id": "Ttq4X5EOLL8O",
        "colab_type": "text"
      },
      "source": [
        "ploting the losses"
      ]
    },
    {
      "cell_type": "code",
      "metadata": {
        "id": "5HjDDtCACKnv",
        "colab_type": "code",
        "colab": {
          "base_uri": "https://localhost:8080/",
          "height": 279
        },
        "outputId": "5d9c34c2-119a-4f25-8460-f90e0f4f028c"
      },
      "source": [
        "plt.plot(range(epochs), losses)\n",
        "plt.ylabel('RMSE Loss')\n",
        "plt.xlabel('epoch');"
      ],
      "execution_count": null,
      "outputs": [
        {
          "output_type": "display_data",
          "data": {
            "image/png": "[encoded data removed]",
            "text/plain": [
              "<Figure size 432x288 with 1 Axes>"
            ]
          },
          "metadata": {
            "tags": [],
            "needs_background": "light"
          }
        }
      ]
    },
    {
      "cell_type": "code",
      "metadata": {
        "id": "IgVju8kKCJzj",
        "colab_type": "code",
        "colab": {
          "base_uri": "https://localhost:8080/",
          "height": 34
        },
        "outputId": "cafaf170-3e01-4a7c-c944-91e7d0dedb7e"
      },
      "source": [
        "# TO EVALUATE THE ENTIRE TEST SET\n",
        "with torch.no_grad():\n",
        "    y_val = model(cat_test, cont_test)\n",
        "    loss = torch.sqrt(criterion(y_val, y_test))\n",
        "print(f'RMSE: {loss:.8f}')"
      ],
      "execution_count": null,
      "outputs": [
        {
          "output_type": "stream",
          "text": [
            "RMSE: 3.61987185\n"
          ],
          "name": "stdout"
        }
      ]
    },
    {
      "cell_type": "markdown",
      "metadata": {
        "id": "djvzaTvsLYRi",
        "colab_type": "text"
      },
      "source": [
        "This means that on average, predicted values are within &plusmn;$3.31 of the actual value.\n",
        "\n",
        "Now let's look at the first 50 predicted values:"
      ]
    },
    {
      "cell_type": "code",
      "metadata": {
        "id": "pxqWh1_iCSia",
        "colab_type": "code",
        "colab": {
          "base_uri": "https://localhost:8080/",
          "height": 884
        },
        "outputId": "35acfa81-22df-41ae-cb63-f3ded269f0d1"
      },
      "source": [
        "print(f'{\"PREDICTED\":>12} {\"ACTUAL\":>8} {\"DIFF\":>8}')\n",
        "for i in range(50):\n",
        "    diff = np.abs(y_val[i].item()-y_test[i].item())\n",
        "    print(f'{i+1:2}. {y_val[i].item():8.4f} {y_test[i].item():8.4f} {diff:8.4f}')"
      ],
      "execution_count": null,
      "outputs": [
        {
          "output_type": "stream",
          "text": [
            "   PREDICTED   ACTUAL     DIFF\n",
            " 1.   2.8141   2.9000   0.0859\n",
            " 2.  20.8517   5.7000  15.1517\n",
            " 3.   8.6853   7.7000   0.9853\n",
            " 4.  13.0069  12.5000   0.5069\n",
            " 5.   5.5449   4.1000   1.4449\n",
            " 6.   7.6447   5.3000   2.3447\n",
            " 7.   6.1117   3.7000   2.4117\n",
            " 8.  16.6877  14.5000   2.1877\n",
            " 9.   6.1046   5.7000   0.4046\n",
            "10.  11.7829  10.1000   1.6829\n",
            "11.   5.2339   4.5000   0.7339\n",
            "12.   7.2134   6.1000   1.1134\n",
            "13.   7.7220   6.9000   0.8220\n",
            "14.  13.9898  14.1000   0.1102\n",
            "15.   4.6884   4.5000   0.1884\n",
            "16.  32.3988  34.1000   1.7012\n",
            "17.   2.7988  12.5000   9.7012\n",
            "18.   2.4183   4.1000   1.6817\n",
            "19.   8.4252   8.5000   0.0748\n",
            "20.   3.5997   5.3000   1.7003\n",
            "21.  15.6007  11.3000   4.3007\n",
            "22.  11.4210  10.5000   0.9210\n",
            "23.  18.2723  15.3000   2.9723\n",
            "24.  18.6214  14.9000   3.7214\n",
            "25.  44.9617  49.5700   4.6083\n",
            "26.   2.8409   5.3000   2.4591\n",
            "27.   8.0403   3.7000   4.3403\n",
            "28.   8.7246   6.5000   2.2246\n",
            "29.  14.0488  14.1000   0.0512\n",
            "30.   5.0700   4.9000   0.1700\n",
            "31.   5.2063   3.7000   1.5063\n",
            "32.  45.2050  38.6700   6.5350\n",
            "33.  13.9404  12.5000   1.4404\n",
            "34.  13.7862  16.5000   2.7138\n",
            "35.   4.7215   5.7000   0.9785\n",
            "36.   7.2712   8.9000   1.6288\n",
            "37.  18.8851  22.1000   3.2149\n",
            "38.   7.2991  12.1000   4.8009\n",
            "39.   6.7217  10.1000   3.3783\n",
            "40.   2.5921   3.3000   0.7079\n",
            "41.   8.1116   8.5000   0.3884\n",
            "42.   9.7111   8.1000   1.6111\n",
            "43.  10.3236  14.5000   4.1764\n",
            "44.   6.6774   4.9000   1.7774\n",
            "45.   8.8608   8.5000   0.3608\n",
            "46.  11.9309  12.1000   0.1691\n",
            "47.  22.6432  23.7000   1.0568\n",
            "48.   3.9167   3.7000   0.2167\n",
            "49.   4.4245   9.3000   4.8755\n",
            "50.  13.2710   8.1000   5.1710\n"
          ],
          "name": "stdout"
        }
      ]
    }
  ]
}